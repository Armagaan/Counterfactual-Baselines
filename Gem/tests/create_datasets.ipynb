{
 "cells": [
  {
   "cell_type": "markdown",
   "metadata": {},
   "source": [
    "# Create Datasets"
   ]
  },
  {
   "cell_type": "code",
   "execution_count": 16,
   "metadata": {},
   "outputs": [],
   "source": [
    "import os\n",
    "import pickle\n",
    "\n",
    "import torch"
   ]
  },
  {
   "cell_type": "code",
   "execution_count": 17,
   "metadata": {},
   "outputs": [],
   "source": [
    "DATASET = \"syn4\""
   ]
  },
  {
   "cell_type": "markdown",
   "metadata": {},
   "source": [
    "## Data"
   ]
  },
  {
   "cell_type": "code",
   "execution_count": 18,
   "metadata": {},
   "outputs": [],
   "source": [
    "with torch.no_grad():\n",
    "    ckpt = torch.load('../ckpt/%s_base_h20_o20.pth.tar'%(DATASET))\n",
    "    cg_dict = ckpt[\"cg\"] # get computation graph\n",
    "    input_dim = cg_dict[\"feat\"].shape[2]\n",
    "    adj = cg_dict[\"adj\"][0]\n",
    "    label = cg_dict[\"label\"][0]\n",
    "    features = torch.tensor(cg_dict[\"feat\"][0], dtype=torch.float)\n",
    "    num_class = max(label)+1"
   ]
  },
  {
   "cell_type": "code",
   "execution_count": 19,
   "metadata": {},
   "outputs": [
    {
     "data": {
      "text/plain": [
       "dict_keys(['epoch', 'model_type', 'optimizer', 'model_state', 'optimizer_state', 'cg'])"
      ]
     },
     "execution_count": 19,
     "metadata": {},
     "output_type": "execute_result"
    }
   ],
   "source": [
    "ckpt.keys()"
   ]
  },
  {
   "cell_type": "code",
   "execution_count": 20,
   "metadata": {},
   "outputs": [
    {
     "data": {
      "text/plain": [
       "dict_keys(['adj', 'feat', 'label', 'pred', 'train_idx', 'test_idx'])"
      ]
     },
     "execution_count": 20,
     "metadata": {},
     "output_type": "execute_result"
    }
   ],
   "source": [
    "cg_dict.keys()"
   ]
  },
  {
   "cell_type": "markdown",
   "metadata": {},
   "source": [
    "## CFGNN model weights"
   ]
  },
  {
   "cell_type": "code",
   "execution_count": 21,
   "metadata": {},
   "outputs": [
    {
     "name": "stdout",
     "output_type": "stream",
     "text": [
      "gc1.weight : torch.Size([10, 20])\n",
      "gc1.bias   : torch.Size([20])\n",
      "gc2.weight : torch.Size([20, 20])\n",
      "gc2.bias   : torch.Size([20])\n",
      "gc3.weight : torch.Size([20, 20])\n",
      "gc3.bias   : torch.Size([20])\n",
      "lin.weight : torch.Size([2, 60])\n",
      "lin.bias   : torch.Size([2])\n"
     ]
    }
   ],
   "source": [
    "state_dict_cfgnn = torch.load(f\"../cfgnn_model_weights/gcn_3layer_{DATASET}.pt\")\n",
    "for key, val in state_dict_cfgnn.items():\n",
    "    print(f\"{key:<10} : {val.size()}\")"
   ]
  },
  {
   "cell_type": "markdown",
   "metadata": {},
   "source": [
    "## Eval set"
   ]
  },
  {
   "cell_type": "code",
   "execution_count": 22,
   "metadata": {},
   "outputs": [],
   "source": [
    "with open(\"../../eval_set.pkl\", \"rb\") as file:\n",
    "    eval_set = pickle.load(file)"
   ]
  },
  {
   "cell_type": "code",
   "execution_count": 23,
   "metadata": {},
   "outputs": [
    {
     "data": {
      "text/plain": [
       "dict_keys(['syn1/ba-shapes', 'syn4/tree-cycles', 'syn5/tree-grid'])"
      ]
     },
     "execution_count": 23,
     "metadata": {},
     "output_type": "execute_result"
    }
   ],
   "source": [
    "eval_set.keys()"
   ]
  },
  {
   "cell_type": "code",
   "execution_count": 24,
   "metadata": {},
   "outputs": [],
   "source": [
    "if DATASET == \"syn1\":\n",
    "    KEY = \"syn1/ba-shapes\"\n",
    "elif DATASET == \"syn4\":\n",
    "    KEY = \"syn4/tree-cycles\"\n",
    "elif DATASET == \"syn5\":\n",
    "    KEY = \"syn5/tree-grids\""
   ]
  },
  {
   "cell_type": "markdown",
   "metadata": {},
   "source": [
    "## Our eval set as part of the training set"
   ]
  },
  {
   "cell_type": "code",
   "execution_count": 25,
   "metadata": {},
   "outputs": [],
   "source": [
    "train_set_indices = [range(label.shape[0])]\n",
    "test_set_indices = eval_set[KEY]"
   ]
  },
  {
   "cell_type": "markdown",
   "metadata": {},
   "source": [
    "### Save"
   ]
  },
  {
   "cell_type": "code",
   "execution_count": 26,
   "metadata": {},
   "outputs": [],
   "source": [
    "ckpt[\"cg\"][\"train_idx\"] = train_set_indices\n",
    "ckpt[\"cg\"][\"test_idx\"] = test_set_indices\n",
    "ckpt[\"model_state\"] = state_dict_cfgnn"
   ]
  },
  {
   "cell_type": "code",
   "execution_count": 27,
   "metadata": {},
   "outputs": [],
   "source": [
    "os.makedirs(f\"../data/{DATASET}\", exist_ok=True)\n",
    "torch.save(ckpt, f\"../data/{DATASET}/eval_as_train.pt\")"
   ]
  },
  {
   "cell_type": "markdown",
   "metadata": {},
   "source": [
    "## Our eval set as part of the validation set"
   ]
  },
  {
   "cell_type": "code",
   "execution_count": 28,
   "metadata": {},
   "outputs": [],
   "source": [
    "train_set_indices = [i for i in range(label.shape[0]) if i not in eval_set[KEY]]\n",
    "test_set_indices = eval_set[KEY]"
   ]
  },
  {
   "cell_type": "markdown",
   "metadata": {},
   "source": [
    "### Save"
   ]
  },
  {
   "cell_type": "code",
   "execution_count": 29,
   "metadata": {},
   "outputs": [],
   "source": [
    "ckpt[\"cg\"][\"train_idx\"] = train_set_indices\n",
    "ckpt[\"cg\"][\"test_idx\"] = test_set_indices\n",
    "ckpt[\"model_state\"] = state_dict_cfgnn"
   ]
  },
  {
   "cell_type": "code",
   "execution_count": 30,
   "metadata": {},
   "outputs": [],
   "source": [
    "os.makedirs(f\"../data/{DATASET}\", exist_ok=True)\n",
    "torch.save(ckpt, f\"../data/{DATASET}/eval_as_eval.pt\")"
   ]
  },
  {
   "cell_type": "code",
   "execution_count": null,
   "metadata": {},
   "outputs": [],
   "source": []
  }
 ],
 "metadata": {
  "kernelspec": {
   "display_name": "Python 3.8.13 ('gem')",
   "language": "python",
   "name": "python3"
  },
  "language_info": {
   "codemirror_mode": {
    "name": "ipython",
    "version": 3
   },
   "file_extension": ".py",
   "mimetype": "text/x-python",
   "name": "python",
   "nbconvert_exporter": "python",
   "pygments_lexer": "ipython3",
   "version": "3.8.13"
  },
  "orig_nbformat": 4,
  "vscode": {
   "interpreter": {
    "hash": "6cbbe528126ce4ff858253ebeac4791d5498c577849f0c2b8ed17d9a06b9b755"
   }
  }
 },
 "nbformat": 4,
 "nbformat_minor": 2
}
