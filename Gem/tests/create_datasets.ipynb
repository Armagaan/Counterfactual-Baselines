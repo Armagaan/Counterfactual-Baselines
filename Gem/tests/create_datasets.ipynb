{
 "cells": [
  {
   "cell_type": "markdown",
   "metadata": {},
   "source": [
    "# Rough"
   ]
  },
  {
   "cell_type": "code",
   "execution_count": null,
   "metadata": {},
   "outputs": [],
   "source": [
    "import os\n",
    "import pickle\n",
    "\n",
    "import numpy as np\n",
    "import torch"
   ]
  },
  {
   "cell_type": "code",
   "execution_count": null,
   "metadata": {},
   "outputs": [],
   "source": [
    "DATASET = \"syn4\""
   ]
  },
  {
   "cell_type": "markdown",
   "metadata": {},
   "source": [
    "## Data"
   ]
  },
  {
   "cell_type": "code",
   "execution_count": null,
   "metadata": {},
   "outputs": [],
   "source": [
    "with torch.no_grad():\n",
    "    ckpt = torch.load('../ckpt/%s_base_h20_o20.pth.tar'%(DATASET))\n",
    "    cg_dict = ckpt[\"cg\"] # get computation graph\n",
    "    input_dim = cg_dict[\"feat\"].shape[2]\n",
    "    adj = cg_dict[\"adj\"][0]\n",
    "    label = cg_dict[\"label\"][0]\n",
    "    features = torch.tensor(cg_dict[\"feat\"][0], dtype=torch.float)\n",
    "    num_class = max(label)+1"
   ]
  },
  {
   "cell_type": "code",
   "execution_count": null,
   "metadata": {},
   "outputs": [],
   "source": [
    "ckpt.keys()"
   ]
  },
  {
   "cell_type": "code",
   "execution_count": null,
   "metadata": {},
   "outputs": [],
   "source": [
    "cg_dict.keys()"
   ]
  },
  {
   "cell_type": "markdown",
   "metadata": {},
   "source": [
    "## Eval set"
   ]
  },
  {
   "cell_type": "code",
   "execution_count": null,
   "metadata": {},
   "outputs": [],
   "source": [
    "with open(\"../../eval_set.pkl\", \"rb\") as file:\n",
    "    eval_set = pickle.load(file)"
   ]
  },
  {
   "cell_type": "code",
   "execution_count": null,
   "metadata": {},
   "outputs": [],
   "source": [
    "eval_set.keys()"
   ]
  },
  {
   "cell_type": "code",
   "execution_count": null,
   "metadata": {},
   "outputs": [],
   "source": [
    "if DATASET == \"syn1\":\n",
    "    KEY = \"syn1/ba-shapes\"\n",
    "elif DATASET == \"syn4\":\n",
    "    KEY = \"syn4/tree-cycles\"\n",
    "elif DATASET == \"syn5\":\n",
    "    KEY = \"syn5/tree-grids\""
   ]
  },
  {
   "cell_type": "markdown",
   "metadata": {},
   "source": [
    "## Our eval set as part of the training set"
   ]
  },
  {
   "cell_type": "code",
   "execution_count": null,
   "metadata": {},
   "outputs": [],
   "source": [
    "train_set_indices = [range(label.shape[0])]\n",
    "test_set_indices = eval_set[KEY]"
   ]
  },
  {
   "cell_type": "markdown",
   "metadata": {},
   "source": [
    "### Save"
   ]
  },
  {
   "cell_type": "code",
   "execution_count": null,
   "metadata": {},
   "outputs": [],
   "source": [
    "ckpt[\"cg\"][\"train_idx\"] = train_set_indices\n",
    "ckpt[\"cg\"][\"test_idx\"] = test_set_indices"
   ]
  },
  {
   "cell_type": "code",
   "execution_count": null,
   "metadata": {},
   "outputs": [],
   "source": [
    "os.makedirs(f\"../data/{DATASET}\", exist_ok=True)\n",
    "torch.save(ckpt, f\"../data/{DATASET}/eval_as_train.pt\")"
   ]
  },
  {
   "cell_type": "markdown",
   "metadata": {},
   "source": [
    "## Our eval set as part of the validation set"
   ]
  },
  {
   "cell_type": "code",
   "execution_count": null,
   "metadata": {},
   "outputs": [],
   "source": [
    "train_set_indices = [i for i in range(label.shape[0]) if i not in eval_set[KEY]]\n",
    "test_set_indices = eval_set[KEY]"
   ]
  },
  {
   "cell_type": "markdown",
   "metadata": {},
   "source": [
    "### Save"
   ]
  },
  {
   "cell_type": "code",
   "execution_count": null,
   "metadata": {},
   "outputs": [],
   "source": [
    "ckpt[\"cg\"][\"train_idx\"] = train_set_indices\n",
    "ckpt[\"cg\"][\"test_idx\"] = test_set_indices"
   ]
  },
  {
   "cell_type": "code",
   "execution_count": null,
   "metadata": {},
   "outputs": [],
   "source": [
    "os.makedirs(f\"../data/{DATASET}\", exist_ok=True)\n",
    "torch.save(ckpt, f\"../data/{DATASET}/eval_as_eval.pt\")"
   ]
  },
  {
   "cell_type": "code",
   "execution_count": null,
   "metadata": {},
   "outputs": [],
   "source": []
  }
 ],
 "metadata": {
  "kernelspec": {
   "display_name": "Python 3.8.13 ('gem')",
   "language": "python",
   "name": "python3"
  },
  "language_info": {
   "name": "python",
   "version": "3.8.13"
  },
  "orig_nbformat": 4,
  "vscode": {
   "interpreter": {
    "hash": "6cbbe528126ce4ff858253ebeac4791d5498c577849f0c2b8ed17d9a06b9b755"
   }
  }
 },
 "nbformat": 4,
 "nbformat_minor": 2
}
