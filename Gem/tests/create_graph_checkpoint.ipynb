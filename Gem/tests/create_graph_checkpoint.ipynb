{
 "cells": [
  {
   "cell_type": "markdown",
   "metadata": {},
   "source": [
    "# Create Checkpoint"
   ]
  },
  {
   "cell_type": "code",
   "execution_count": 1,
   "metadata": {},
   "outputs": [],
   "source": [
    "import os\n",
    "import pickle\n",
    "import sys\n",
    "\n",
    "import torch\n",
    "\n",
    "sys.path.append(\"../gnnexp\")\n",
    "from models import GNN_Custom_Graph"
   ]
  },
  {
   "cell_type": "code",
   "execution_count": 2,
   "metadata": {},
   "outputs": [],
   "source": [
    "DATASET = \"NCI1\" # OPTIONS: Mutagenicity, NCI1, IsCyclic\n",
    "\n",
    "#todo: MUTAG dataset is different from other baselines."
   ]
  },
  {
   "cell_type": "markdown",
   "metadata": {},
   "source": [
    "## Data"
   ]
  },
  {
   "cell_type": "code",
   "execution_count": 3,
   "metadata": {},
   "outputs": [],
   "source": [
    "with torch.no_grad():\n",
    "    ckpt = torch.load(f\"../ckpt/{DATASET}_base_h20_o20.pth.tar\")\n",
    "    cg_dict = ckpt[\"cg\"] # Get the graph data.\n",
    "    input_dim = cg_dict[\"feat\"].shape[2]\n",
    "    num_classes = 2"
   ]
  },
  {
   "cell_type": "code",
   "execution_count": 4,
   "metadata": {},
   "outputs": [
    {
     "name": "stdout",
     "output_type": "stream",
     "text": [
      "4102\n"
     ]
    }
   ],
   "source": [
    "max_label = max(max(cg_dict['test_idx']), max(cg_dict['val_idx']), max(cg_dict['train_idx']))\n",
    "print(max_label)"
   ]
  },
  {
   "cell_type": "code",
   "execution_count": 5,
   "metadata": {},
   "outputs": [],
   "source": [
    "with open(f\"../data/{DATASET}/index_{DATASET}.pkl\", \"rb\") as file:\n",
    "    indices = pickle.load(file)\n",
    "\n",
    "train_set_indices = list(set([int(i) for i in indices['idx_train'] if i <= max_label]))\n",
    "val_set_indices = list(set([int(i) for i in indices['idx_val'] if i <= max_label]))\n",
    "test_set_indices = list(set([int(i) for i in indices['idx_test'] if i <= max_label]))"
   ]
  },
  {
   "cell_type": "code",
   "execution_count": 6,
   "metadata": {},
   "outputs": [
    {
     "data": {
      "text/plain": [
       "2004"
      ]
     },
     "execution_count": 6,
     "metadata": {},
     "output_type": "execute_result"
    }
   ],
   "source": [
    "len(test_set_indices)"
   ]
  },
  {
   "cell_type": "markdown",
   "metadata": {},
   "source": [
    "## Model"
   ]
  },
  {
   "cell_type": "code",
   "execution_count": 7,
   "metadata": {},
   "outputs": [
    {
     "name": "stdout",
     "output_type": "stream",
     "text": [
      "GNN_Custom_Graph(\n",
      "  (conv1): GraphConvolution (37 -> 128)\n",
      "  (conv2): GraphConvolution (128 -> 128)\n",
      "  (conv3): GraphConvolution (128 -> 128)\n",
      "  (dense1): Linear(in_features=128, out_features=16, bias=True)\n",
      "  (dense2): Linear(in_features=16, out_features=8, bias=True)\n",
      "  (dense3): Linear(in_features=8, out_features=1, bias=True)\n",
      ")\n"
     ]
    }
   ],
   "source": [
    "model = GNN_Custom_Graph(\n",
    "    in_features=input_dim,\n",
    "    h_features=128,\n",
    ")\n",
    "print(model)"
   ]
  },
  {
   "cell_type": "markdown",
   "metadata": {},
   "source": [
    "## CFGNN model weights"
   ]
  },
  {
   "cell_type": "code",
   "execution_count": 8,
   "metadata": {},
   "outputs": [],
   "source": [
    "state_dict_cfgnn = torch.load(\n",
    "    f\"../graph_classification_model_weights/{DATASET}_weights.pt\"\n",
    ")"
   ]
  },
  {
   "cell_type": "markdown",
   "metadata": {},
   "source": [
    "## Preds"
   ]
  },
  {
   "cell_type": "code",
   "execution_count": 9,
   "metadata": {},
   "outputs": [
    {
     "data": {
      "text/plain": [
       "GNN_Custom_Graph(\n",
       "  (conv1): GraphConvolution (37 -> 128)\n",
       "  (conv2): GraphConvolution (128 -> 128)\n",
       "  (conv3): GraphConvolution (128 -> 128)\n",
       "  (dense1): Linear(in_features=128, out_features=16, bias=True)\n",
       "  (dense2): Linear(in_features=16, out_features=8, bias=True)\n",
       "  (dense3): Linear(in_features=8, out_features=1, bias=True)\n",
       ")"
      ]
     },
     "execution_count": 9,
     "metadata": {},
     "output_type": "execute_result"
    }
   ],
   "source": [
    "model.load_state_dict(state_dict_cfgnn)\n",
    "model.eval()"
   ]
  },
  {
   "cell_type": "code",
   "execution_count": 10,
   "metadata": {},
   "outputs": [],
   "source": [
    "preds = list()\n",
    "labels = list()\n",
    "\n",
    "for graph_id in range(cg_dict[\"adj\"].size(0)):\n",
    "    feat = cg_dict[\"feat\"][graph_id, :].float().unsqueeze(0)\n",
    "    adj = cg_dict[\"adj\"][graph_id].float().unsqueeze(0)\n",
    "    label = cg_dict['label'][graph_id]\n",
    "    pred = model(feat, adj)\n",
    "    preds.append(pred)\n",
    "    labels.append(label)\n",
    "preds = torch.Tensor(preds)\n",
    "labels = torch.Tensor(labels)"
   ]
  },
  {
   "cell_type": "code",
   "execution_count": 11,
   "metadata": {},
   "outputs": [
    {
     "data": {
      "text/plain": [
       "tensor(0.6868)"
      ]
     },
     "execution_count": 11,
     "metadata": {},
     "output_type": "execute_result"
    }
   ],
   "source": [
    "(preds.round() == labels).sum()/len(labels)"
   ]
  },
  {
   "cell_type": "code",
   "execution_count": 12,
   "metadata": {},
   "outputs": [],
   "source": [
    "ckpt['cg']['pred'] = preds.unsqueeze(0).numpy()"
   ]
  },
  {
   "cell_type": "markdown",
   "metadata": {},
   "source": [
    "## Our eval set as part of the training set"
   ]
  },
  {
   "cell_type": "code",
   "execution_count": 13,
   "metadata": {},
   "outputs": [],
   "source": [
    "ckpt[\"cg\"][\"train_idx\"] = train_set_indices + val_set_indices + test_set_indices\n",
    "ckpt[\"cg\"][\"test_idx\"] = test_set_indices\n",
    "ckpt[\"model_state\"] = state_dict_cfgnn"
   ]
  },
  {
   "cell_type": "code",
   "execution_count": 14,
   "metadata": {},
   "outputs": [],
   "source": [
    "os.makedirs(f\"../data/{DATASET}\", exist_ok=True)\n",
    "torch.save(ckpt, f\"../data/{DATASET}/eval_as_train.pt\")"
   ]
  },
  {
   "cell_type": "markdown",
   "metadata": {},
   "source": [
    "## Our eval set as the validation set"
   ]
  },
  {
   "cell_type": "code",
   "execution_count": 15,
   "metadata": {},
   "outputs": [],
   "source": [
    "ckpt[\"cg\"][\"train_idx\"] = train_set_indices + val_set_indices\n",
    "ckpt[\"cg\"][\"test_idx\"] = test_set_indices\n",
    "ckpt[\"model_state\"] = state_dict_cfgnn"
   ]
  },
  {
   "cell_type": "code",
   "execution_count": 16,
   "metadata": {},
   "outputs": [],
   "source": [
    "os.makedirs(f\"../data/{DATASET}\", exist_ok=True)\n",
    "torch.save(ckpt, f\"../data/{DATASET}/eval_as_eval.pt\")"
   ]
  },
  {
   "cell_type": "markdown",
   "metadata": {},
   "source": [
    "## Rough"
   ]
  },
  {
   "cell_type": "code",
   "execution_count": 17,
   "metadata": {},
   "outputs": [],
   "source": [
    "test_preds = list()\n",
    "test_labels = list()\n",
    "indices = test_set_indices\n",
    "for graph_id in indices:\n",
    "    feat = cg_dict[\"feat\"][graph_id, :].float().unsqueeze(0)\n",
    "    adj = cg_dict[\"adj\"][graph_id].float().unsqueeze(0)\n",
    "    label = cg_dict['label'][graph_id]\n",
    "    pred = model(feat, adj)\n",
    "    test_preds.append(pred)\n",
    "    test_labels.append(label)\n",
    "test_preds = torch.Tensor(test_preds)\n",
    "test_labels = torch.Tensor(test_labels)"
   ]
  },
  {
   "cell_type": "code",
   "execution_count": 18,
   "metadata": {},
   "outputs": [
    {
     "name": "stdout",
     "output_type": "stream",
     "text": [
      "Test accuracy: 67.66 %\n"
     ]
    }
   ],
   "source": [
    "acc = (test_labels == test_preds.round()).sum()/test_labels.size(0)\n",
    "print(f\"Test accuracy: {100 * acc:.2f} %\")"
   ]
  },
  {
   "cell_type": "code",
   "execution_count": null,
   "metadata": {},
   "outputs": [],
   "source": []
  }
 ],
 "metadata": {
  "kernelspec": {
   "display_name": "Python 3.8.13 ('gem')",
   "language": "python",
   "name": "python3"
  },
  "language_info": {
   "codemirror_mode": {
    "name": "ipython",
    "version": 3
   },
   "file_extension": ".py",
   "mimetype": "text/x-python",
   "name": "python",
   "nbconvert_exporter": "python",
   "pygments_lexer": "ipython3",
   "version": "3.8.13"
  },
  "orig_nbformat": 4,
  "vscode": {
   "interpreter": {
    "hash": "6cbbe528126ce4ff858253ebeac4791d5498c577849f0c2b8ed17d9a06b9b755"
   }
  }
 },
 "nbformat": 4,
 "nbformat_minor": 2
}
