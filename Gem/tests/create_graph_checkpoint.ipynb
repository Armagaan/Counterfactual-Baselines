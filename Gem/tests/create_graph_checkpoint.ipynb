{
 "cells": [
  {
   "cell_type": "markdown",
   "metadata": {},
   "source": [
    "# Create Checkpoint"
   ]
  },
  {
   "cell_type": "code",
   "execution_count": null,
   "metadata": {},
   "outputs": [],
   "source": [
    "import os\n",
    "import pickle\n",
    "import sys\n",
    "\n",
    "import torch\n",
    "\n",
    "sys.path.append(\"../gnnexp\")\n",
    "from models import GNN_Custom_Graph"
   ]
  },
  {
   "cell_type": "code",
   "execution_count": null,
   "metadata": {},
   "outputs": [],
   "source": [
    "DATASET = \"Mutagenicity\" # OPTIONS: Mutagenicity, NCI1, IsCyclic\n",
    "\n",
    "#todo: MUTAG dataset is different from other baselines."
   ]
  },
  {
   "cell_type": "markdown",
   "metadata": {},
   "source": [
    "## Data"
   ]
  },
  {
   "cell_type": "code",
   "execution_count": null,
   "metadata": {},
   "outputs": [],
   "source": [
    "with torch.no_grad():\n",
    "    ckpt = torch.load(f\"../ckpt/{DATASET}_base_h20_o20.pth.tar\")\n",
    "    cg_dict = ckpt[\"cg\"] # Get the graph data.\n",
    "    input_dim = cg_dict[\"feat\"].shape[2]\n",
    "    num_classes = 2"
   ]
  },
  {
   "cell_type": "code",
   "execution_count": null,
   "metadata": {},
   "outputs": [],
   "source": [
    "max_label = max(max(cg_dict['test_idx']), max(cg_dict['val_idx']), max(cg_dict['train_idx']))\n",
    "print(max_label)"
   ]
  },
  {
   "cell_type": "code",
   "execution_count": null,
   "metadata": {},
   "outputs": [],
   "source": [
    "with open(f\"../data/{DATASET}/index_{DATASET}.pkl\", \"rb\") as file:\n",
    "    indices = pickle.load(file)\n",
    "\n",
    "train_set_indices = list(set([int(i) for i in indices['idx_train'] if i <= max_label]))\n",
    "val_set_indices = list(set([int(i) for i in indices['idx_val'] if i <= max_label]))\n",
    "test_set_indices = list(set([int(i) for i in indices['idx_test'] if i <= max_label]))"
   ]
  },
  {
   "cell_type": "code",
   "execution_count": null,
   "metadata": {},
   "outputs": [],
   "source": [
    "len(test_set_indices)"
   ]
  },
  {
   "cell_type": "markdown",
   "metadata": {},
   "source": [
    "## Model"
   ]
  },
  {
   "cell_type": "code",
   "execution_count": null,
   "metadata": {},
   "outputs": [],
   "source": [
    "model = GNN_Custom_Graph(\n",
    "    in_features=input_dim,\n",
    "    h_features=128,\n",
    ")\n",
    "print(model)"
   ]
  },
  {
   "cell_type": "markdown",
   "metadata": {},
   "source": [
    "## CFGNN model weights"
   ]
  },
  {
   "cell_type": "code",
   "execution_count": null,
   "metadata": {},
   "outputs": [],
   "source": [
    "state_dict_cfgnn = torch.load(\n",
    "    f\"../graph_classification_model_weights/{DATASET}_weights.pt\"\n",
    ")"
   ]
  },
  {
   "cell_type": "markdown",
   "metadata": {},
   "source": [
    "## Preds"
   ]
  },
  {
   "cell_type": "code",
   "execution_count": null,
   "metadata": {},
   "outputs": [],
   "source": [
    "model.load_state_dict(state_dict_cfgnn)\n",
    "model.eval()"
   ]
  },
  {
   "cell_type": "code",
   "execution_count": null,
   "metadata": {},
   "outputs": [],
   "source": [
    "preds = list()\n",
    "labels = list()\n",
    "\n",
    "for graph_id in range(cg_dict[\"adj\"].size(0)):\n",
    "    feat = cg_dict[\"feat\"][graph_id, :].float().unsqueeze(0)\n",
    "    adj = cg_dict[\"adj\"][graph_id].float().unsqueeze(0)\n",
    "    label = cg_dict['label'][graph_id]\n",
    "    pred = model(feat, adj)\n",
    "    preds.append(pred)\n",
    "    labels.append(label)\n",
    "preds = torch.Tensor(preds)\n",
    "labels = torch.Tensor(labels)"
   ]
  },
  {
   "cell_type": "code",
   "execution_count": null,
   "metadata": {},
   "outputs": [],
   "source": [
    "(preds.round() == labels).sum()/len(labels)"
   ]
  },
  {
   "cell_type": "code",
   "execution_count": null,
   "metadata": {},
   "outputs": [],
   "source": [
    "ckpt['cg']['pred'] = preds.unsqueeze(0).numpy()"
   ]
  },
  {
   "cell_type": "markdown",
   "metadata": {},
   "source": [
    "## Our eval set as part of the training set"
   ]
  },
  {
   "cell_type": "code",
   "execution_count": null,
   "metadata": {},
   "outputs": [],
   "source": [
    "train_set_1 = list()\n",
    "val_set_1 = list()\n",
    "test_set_1 = list()\n",
    "\n",
    "for set_ in ['train', 'val', 'test']:\n",
    "    for idx in eval(f\"{set_}_set_indices\"):\n",
    "        label = ckpt['cg']['label'][idx]\n",
    "        pred = ckpt['cg']['pred'][0][idx].round()\n",
    "        if label == pred == 1:\n",
    "            eval(f\"{set_}_set_1.append(idx)\")"
   ]
  },
  {
   "cell_type": "code",
   "execution_count": null,
   "metadata": {},
   "outputs": [],
   "source": [
    "ckpt[\"cg\"][\"train_idx\"] = train_set_1 + val_set_1 + test_set_1\n",
    "ckpt[\"cg\"][\"test_idx\"] = test_set_1\n",
    "ckpt[\"model_state\"] = state_dict_cfgnn"
   ]
  },
  {
   "cell_type": "code",
   "execution_count": null,
   "metadata": {},
   "outputs": [],
   "source": [
    "len(ckpt['cg']['train_idx'])"
   ]
  },
  {
   "cell_type": "code",
   "execution_count": null,
   "metadata": {},
   "outputs": [],
   "source": [
    "os.makedirs(f\"../data/{DATASET}\", exist_ok=True)\n",
    "torch.save(ckpt, f\"../data/{DATASET}/eval_as_train.pt\")"
   ]
  },
  {
   "cell_type": "markdown",
   "metadata": {},
   "source": [
    "## Our eval set as the validation set"
   ]
  },
  {
   "cell_type": "code",
   "execution_count": null,
   "metadata": {},
   "outputs": [],
   "source": [
    "ckpt[\"cg\"][\"train_idx\"] = train_set_1 + val_set_1\n",
    "ckpt[\"cg\"][\"test_idx\"] = test_set_1\n",
    "ckpt[\"model_state\"] = state_dict_cfgnn"
   ]
  },
  {
   "cell_type": "code",
   "execution_count": null,
   "metadata": {},
   "outputs": [],
   "source": [
    "len(ckpt['cg']['train_idx'])"
   ]
  },
  {
   "cell_type": "code",
   "execution_count": null,
   "metadata": {},
   "outputs": [],
   "source": [
    "os.makedirs(f\"../data/{DATASET}\", exist_ok=True)\n",
    "torch.save(ckpt, f\"../data/{DATASET}/eval_as_eval.pt\")"
   ]
  },
  {
   "cell_type": "markdown",
   "metadata": {},
   "source": [
    "## Rough"
   ]
  },
  {
   "cell_type": "code",
   "execution_count": null,
   "metadata": {},
   "outputs": [],
   "source": [
    "test_preds = list()\n",
    "test_labels = list()\n",
    "indices = test_set_1\n",
    "for graph_id in indices:\n",
    "    feat = cg_dict[\"feat\"][graph_id, :].float().unsqueeze(0)\n",
    "    adj = cg_dict[\"adj\"][graph_id].float().unsqueeze(0)\n",
    "    label = cg_dict['label'][graph_id]\n",
    "    pred = model(feat, adj)\n",
    "    test_preds.append(pred)\n",
    "    test_labels.append(label)\n",
    "test_preds = torch.Tensor(test_preds)\n",
    "test_labels = torch.Tensor(test_labels)"
   ]
  },
  {
   "cell_type": "code",
   "execution_count": null,
   "metadata": {},
   "outputs": [],
   "source": [
    "acc = (test_labels == test_preds.round()).sum()/test_labels.size(0)\n",
    "print(f\"Test accuracy (label-1): {100 * acc:.2f} %\")"
   ]
  },
  {
   "cell_type": "code",
   "execution_count": null,
   "metadata": {},
   "outputs": [],
   "source": []
  }
 ],
 "metadata": {
  "kernelspec": {
   "display_name": "Python 3.10.5 ('gem')",
   "language": "python",
   "name": "python3"
  },
  "language_info": {
   "codemirror_mode": {
    "name": "ipython",
    "version": 3
   },
   "file_extension": ".py",
   "mimetype": "text/x-python",
   "name": "python",
   "nbconvert_exporter": "python",
   "pygments_lexer": "ipython3",
   "version": "3.10.5"
  },
  "orig_nbformat": 4,
  "vscode": {
   "interpreter": {
    "hash": "56ee92302c564015799b368264fd0dd7aee0d85f72bb82027dcd74bb921e31b9"
   }
  }
 },
 "nbformat": 4,
 "nbformat_minor": 2
}
