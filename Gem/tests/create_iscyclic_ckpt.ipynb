{
 "cells": [
  {
   "cell_type": "markdown",
   "metadata": {},
   "source": [
    "# Create IsCyclic dataset"
   ]
  },
  {
   "cell_type": "code",
   "execution_count": 59,
   "metadata": {},
   "outputs": [],
   "source": [
    "\n",
    "# ! Use \"gnn\" conda environment to run this notebook."
   ]
  },
  {
   "cell_type": "code",
   "execution_count": 60,
   "metadata": {},
   "outputs": [
    {
     "data": {
      "text/plain": [
       "<torch._C.Generator at 0x7ffb800fa530>"
      ]
     },
     "execution_count": 60,
     "metadata": {},
     "output_type": "execute_result"
    }
   ],
   "source": [
    "import os\n",
    "import pickle\n",
    "import sys\n",
    "\n",
    "import torch\n",
    "\n",
    "sys.path.append(\"../gnnexp\")\n",
    "from models import GNN_Custom_IsCyclic\n",
    "from preprocessing_iscyclic import create_isCyclic_dataset\n",
    "\n",
    "torch.manual_seed(12345)"
   ]
  },
  {
   "cell_type": "markdown",
   "metadata": {},
   "source": [
    "## Data"
   ]
  },
  {
   "cell_type": "code",
   "execution_count": 61,
   "metadata": {},
   "outputs": [
    {
     "name": "stdout",
     "output_type": "stream",
     "text": [
      "Dataset size:  951\n",
      "tensor([[1.],\n",
      "        [1.],\n",
      "        [1.]])\n",
      "tensor([[0, 0, 1, 1, 2, 2],\n",
      "        [1, 2, 0, 2, 0, 1]])\n",
      "tensor(1., dtype=torch.float64)\n"
     ]
    }
   ],
   "source": [
    "dataset, data_objs = create_isCyclic_dataset(saved=True)\n",
    "print(dataset[0].x)\n",
    "print(dataset[0].edge_index)\n",
    "print(dataset[0].y)"
   ]
  },
  {
   "cell_type": "code",
   "execution_count": 62,
   "metadata": {},
   "outputs": [],
   "source": [
    "with open(\"../data/IsCyclic/index.pkl\", \"rb\") as file:\n",
    "    indices = pickle.load(file)"
   ]
  },
  {
   "cell_type": "markdown",
   "metadata": {},
   "source": [
    "## Model"
   ]
  },
  {
   "cell_type": "code",
   "execution_count": 63,
   "metadata": {},
   "outputs": [],
   "source": [
    "model = GNN_Custom_IsCyclic(\n",
    "    in_features=dataset.num_node_features,\n",
    "    h_features=64,\n",
    ")"
   ]
  },
  {
   "cell_type": "code",
   "execution_count": 64,
   "metadata": {},
   "outputs": [
    {
     "data": {
      "text/plain": [
       "GNN_Custom_IsCyclic(\n",
       "  (conv1): GraphConvolution (1 -> 64)\n",
       "  (conv2): GraphConvolution (64 -> 64)\n",
       "  (conv3): GraphConvolution (64 -> 64)\n",
       "  (dense1): Linear(in_features=64, out_features=16, bias=True)\n",
       "  (dense2): Linear(in_features=16, out_features=8, bias=True)\n",
       "  (dense3): Linear(in_features=8, out_features=2, bias=True)\n",
       ")"
      ]
     },
     "execution_count": 64,
     "metadata": {},
     "output_type": "execute_result"
    }
   ],
   "source": [
    "state_dict = torch.load(\n",
    "    \"../graph_classification_model_weights/IsCyclic_weights.pt\"\n",
    ")\n",
    "model.load_state_dict(state_dict)\n",
    "model.eval()"
   ]
  },
  {
   "cell_type": "markdown",
   "metadata": {},
   "source": [
    "## Reference: GEM style data"
   ]
  },
  {
   "cell_type": "code",
   "execution_count": 65,
   "metadata": {},
   "outputs": [],
   "source": [
    "ckpt = torch.load(f\"../ckpt/Mutagenicity_base_h20_o20.pth.tar\")"
   ]
  },
  {
   "cell_type": "code",
   "execution_count": 66,
   "metadata": {},
   "outputs": [
    {
     "data": {
      "text/plain": [
       "dict_keys(['epoch', 'model_type', 'optimizer', 'model_state', 'optimizer_state', 'cg'])"
      ]
     },
     "execution_count": 66,
     "metadata": {},
     "output_type": "execute_result"
    }
   ],
   "source": [
    "ckpt.keys()"
   ]
  },
  {
   "cell_type": "code",
   "execution_count": 67,
   "metadata": {},
   "outputs": [
    {
     "data": {
      "text/plain": [
       "dict_keys(['adj', 'feat', 'label', 'pred', 'train_idx', 'val_idx', 'test_idx', 'gid'])"
      ]
     },
     "execution_count": 67,
     "metadata": {},
     "output_type": "execute_result"
    }
   ],
   "source": [
    "ckpt['cg'].keys()"
   ]
  },
  {
   "cell_type": "code",
   "execution_count": 68,
   "metadata": {},
   "outputs": [
    {
     "name": "stdout",
     "output_type": "stream",
     "text": [
      "KEY       : OBJECT                   : TYPE           : SHAPE/LEN\n",
      "\n",
      "adj       : <class 'torch.Tensor'>   : torch.float64  : torch.Size([4336, 100, 100])\n",
      "feat      : <class 'torch.Tensor'>   : torch.float64  : torch.Size([4336, 100, 14])\n",
      "label     : <class 'torch.Tensor'>   : torch.int32    : torch.Size([4336])\n",
      "pred      : <class 'numpy.ndarray'>  : float64        : (1, 4336, 2)\n",
      "train_idx : <class 'list'>           : <class 'int'>  : 3468\n",
      "val_idx   : <class 'list'>           : <class 'int'>  : 434\n",
      "test_idx  : <class 'list'>           : <class 'int'>  : 434\n",
      "gid       : <class 'torch.Tensor'>   : torch.int64    : torch.Size([4336])\n"
     ]
    }
   ],
   "source": [
    "print(f'{\"KEY\":<10}: {\"OBJECT\":<25}: {\"TYPE\":<15}: SHAPE/LEN\\n')\n",
    "for key, val in ckpt['cg'].items():\n",
    "    try:\n",
    "        print(f\"{key:<10}: {str(type(val)):<25}: {str(val.dtype):<15}: {val.shape}\")\n",
    "    except: # object doesn't have method named \"shape\"\n",
    "        print(f\"{key:<10}: {str(type(val)):<25}: {str(type(val[0])):<15}: {len(val)}\")"
   ]
  },
  {
   "cell_type": "markdown",
   "metadata": {},
   "source": [
    "## CKPT"
   ]
  },
  {
   "cell_type": "code",
   "execution_count": 69,
   "metadata": {},
   "outputs": [
    {
     "name": "stdout",
     "output_type": "stream",
     "text": [
      "106\n"
     ]
    }
   ],
   "source": [
    "MAX_ADJ_SIZE = max([\n",
    "    graph.edge_index[0].unique().size(0)\n",
    "    for graph in dataset\n",
    "])\n",
    "print(MAX_ADJ_SIZE)"
   ]
  },
  {
   "cell_type": "code",
   "execution_count": 70,
   "metadata": {},
   "outputs": [],
   "source": [
    "adjacencies = list()\n",
    "features = list()\n",
    "labels = list()\n",
    "preds = list()\n",
    "g_ids = list()\n",
    "\n",
    "for g_id, graph in enumerate(dataset):\n",
    "    adj = torch.zeros(\n",
    "        size=(MAX_ADJ_SIZE, MAX_ADJ_SIZE)\n",
    "    ).float()\n",
    "    rows = graph.edge_index[0]\n",
    "    cols = graph.edge_index[1]\n",
    "    for row, col in zip(rows, cols):\n",
    "        adj[int(row), int(col)] = 1.0\n",
    "    \n",
    "    feat = graph.x.float()\n",
    "    feat_size = feat.size(0)\n",
    "    extra_size = MAX_ADJ_SIZE - feat_size\n",
    "    feat_extra = torch.zeros(\n",
    "        size=(extra_size, dataset.num_node_features)\n",
    "    ).float()\n",
    "    feat = torch.cat((feat, feat_extra), dim=0)\n",
    "\n",
    "    label = graph.y.long()\n",
    "    pred = model(feat, adj)\n",
    "\n",
    "    adjacencies.append(adj)\n",
    "    features.append(feat)\n",
    "    labels.append(label)\n",
    "    preds.append(pred)\n",
    "    g_ids.append(g_id)\n",
    "\n",
    "adjacencies = torch.stack(adjacencies)\n",
    "features = torch.stack(features)\n",
    "labels = torch.Tensor(labels).long()\n",
    "preds = torch.stack(preds).detach().unsqueeze(0).numpy()\n",
    "g_ids = torch.Tensor(g_ids).long()"
   ]
  },
  {
   "cell_type": "code",
   "execution_count": 71,
   "metadata": {},
   "outputs": [],
   "source": [
    "cg_dict = {\n",
    "    'adj': adjacencies,\n",
    "    'feat': features,\n",
    "    'label': labels,\n",
    "    'pred': preds,\n",
    "    'gid': g_ids,\n",
    "}"
   ]
  },
  {
   "cell_type": "code",
   "execution_count": 72,
   "metadata": {},
   "outputs": [
    {
     "name": "stdout",
     "output_type": "stream",
     "text": [
      "Accuracy: 85.70 %\n"
     ]
    }
   ],
   "source": [
    "acc = 100 * (labels.numpy() == preds.argmax(axis=-1)).sum() / len(labels)\n",
    "print(f\"Accuracy: {acc:.2f} %\")"
   ]
  },
  {
   "cell_type": "code",
   "execution_count": 73,
   "metadata": {},
   "outputs": [
    {
     "name": "stdout",
     "output_type": "stream",
     "text": [
      "KEY       : OBJECT                   : TYPE           : SHAPE/LEN\n",
      "\n",
      "adj       : <class 'torch.Tensor'>   : torch.float32  : torch.Size([951, 106, 106])\n",
      "feat      : <class 'torch.Tensor'>   : torch.float32  : torch.Size([951, 106, 1])\n",
      "label     : <class 'torch.Tensor'>   : torch.int64    : torch.Size([951])\n",
      "pred      : <class 'numpy.ndarray'>  : float32        : (1, 951, 2)\n",
      "gid       : <class 'torch.Tensor'>   : torch.int64    : torch.Size([951])\n"
     ]
    }
   ],
   "source": [
    "print(f'{\"KEY\":<10}: {\"OBJECT\":<25}: {\"TYPE\":<15}: SHAPE/LEN\\n')\n",
    "for key, val in cg_dict.items():\n",
    "    try:\n",
    "        print(f\"{key:<10}: {str(type(val)):<25}: {str(val.dtype):<15}: {val.shape}\")\n",
    "    except: # object doesn't have method named \"shape\"\n",
    "        print(f\"{key:<10}: {str(type(val)):<25}: {str(type(val[0])):<15}: {len(val)}\")"
   ]
  },
  {
   "cell_type": "markdown",
   "metadata": {},
   "source": [
    "## Save"
   ]
  },
  {
   "cell_type": "code",
   "execution_count": 74,
   "metadata": {},
   "outputs": [],
   "source": [
    "new_ckpt = dict()\n",
    "new_ckpt['model_state'] = model.state_dict()\n",
    "new_ckpt['cg'] = cg_dict"
   ]
  },
  {
   "cell_type": "code",
   "execution_count": 75,
   "metadata": {},
   "outputs": [],
   "source": [
    "train_set_1 = list()\n",
    "val_set_1 = list()\n",
    "test_set_1 = list()\n",
    "\n",
    "for set_ in ['train', 'val', 'test']:\n",
    "    for idx in indices[f\"idx_{set_}\"]:\n",
    "        label = new_ckpt['cg']['label'][idx]\n",
    "        pred = new_ckpt['cg']['pred'][0][idx].argmax(axis=-1)\n",
    "        if label == pred == 1:\n",
    "            eval(f\"{set_}_set_1.append(int(idx))\")\n",
    "\n",
    "train_set_1 = list(set(train_set_1))\n",
    "val_set_1 = list(set(val_set_1))\n",
    "test_set_1 = list(set(test_set_1))"
   ]
  },
  {
   "cell_type": "markdown",
   "metadata": {},
   "source": [
    "### Eval set as part of training set"
   ]
  },
  {
   "cell_type": "code",
   "execution_count": 76,
   "metadata": {},
   "outputs": [],
   "source": [
    "new_ckpt['cg']['train_idx'] = train_set_1 + test_set_1\n",
    "new_ckpt['cg']['val_idx'] = val_set_1\n",
    "new_ckpt['cg']['test_idx'] = test_set_1"
   ]
  },
  {
   "cell_type": "code",
   "execution_count": 77,
   "metadata": {},
   "outputs": [],
   "source": [
    "os.makedirs(\"../ckpt\", exist_ok=True)\n",
    "torch.save(new_ckpt, f\"../ckpt/IsCyclic_eval_as_train.pt\")"
   ]
  },
  {
   "cell_type": "markdown",
   "metadata": {},
   "source": [
    "### Eval set as test set"
   ]
  },
  {
   "cell_type": "code",
   "execution_count": 78,
   "metadata": {},
   "outputs": [],
   "source": [
    "new_ckpt['cg']['train_idx'] = train_set_1\n",
    "new_ckpt['cg']['val_idx'] = val_set_1\n",
    "new_ckpt['cg']['test_idx'] = test_set_1"
   ]
  },
  {
   "cell_type": "code",
   "execution_count": 79,
   "metadata": {},
   "outputs": [],
   "source": [
    "os.makedirs(\"../ckpt\", exist_ok=True)\n",
    "torch.save(new_ckpt, f\"../ckpt/IsCyclic_eval_as_eval.pt\")"
   ]
  },
  {
   "cell_type": "markdown",
   "metadata": {},
   "source": [
    "## Rough"
   ]
  },
  {
   "cell_type": "code",
   "execution_count": 80,
   "metadata": {},
   "outputs": [
    {
     "name": "stdout",
     "output_type": "stream",
     "text": [
      "accuracy: 85.70 %\n"
     ]
    }
   ],
   "source": [
    "correct = 0\n",
    "for graph_idx in range(new_ckpt['cg']['adj'].shape[0]):\n",
    "    feat = new_ckpt['cg']['feat'][graph_idx, :].float().unsqueeze(0)\n",
    "    adj = new_ckpt['cg']['adj'][graph_idx].float().unsqueeze(0)\n",
    "    label = new_ckpt['cg']['label'][graph_idx].long().unsqueeze(0)\n",
    "    pred = model(feat, adj).argmax(dim=-1)\n",
    "    if label == pred:\n",
    "        correct += 1\n",
    "acc = 100 * correct/new_ckpt['cg']['adj'].shape[0]\n",
    "print(f\"accuracy: \"f\"{acc:.2f} %\")"
   ]
  },
  {
   "cell_type": "code",
   "execution_count": null,
   "metadata": {},
   "outputs": [],
   "source": []
  }
 ],
 "metadata": {
  "kernelspec": {
   "display_name": "Python 3.9.12 ('gnn')",
   "language": "python",
   "name": "python3"
  },
  "language_info": {
   "codemirror_mode": {
    "name": "ipython",
    "version": 3
   },
   "file_extension": ".py",
   "mimetype": "text/x-python",
   "name": "python",
   "nbconvert_exporter": "python",
   "pygments_lexer": "ipython3",
   "version": "3.9.12"
  },
  "orig_nbformat": 4,
  "vscode": {
   "interpreter": {
    "hash": "68c408a09fc6b9af4d557fa69fd931fc5c0935ab87f3b3ea2b2f71f9a639c9ba"
   }
  }
 },
 "nbformat": 4,
 "nbformat_minor": 2
}
