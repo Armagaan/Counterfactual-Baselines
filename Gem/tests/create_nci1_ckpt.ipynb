{
 "cells": [
  {
   "cell_type": "markdown",
   "metadata": {},
   "source": [
    "# Create NCI1 ckpt"
   ]
  },
  {
   "cell_type": "code",
   "execution_count": 1,
   "metadata": {},
   "outputs": [],
   "source": [
    "\n",
    "# ! Use \"gnn\" conda environment to run this notebook."
   ]
  },
  {
   "cell_type": "code",
   "execution_count": 2,
   "metadata": {},
   "outputs": [
    {
     "data": {
      "text/plain": [
       "<torch._C.Generator at 0x7f73f1b725b0>"
      ]
     },
     "execution_count": 2,
     "metadata": {},
     "output_type": "execute_result"
    }
   ],
   "source": [
    "import os\n",
    "import pickle\n",
    "import sys\n",
    "\n",
    "import torch\n",
    "\n",
    "sys.path.append(\"../gnnexp\")\n",
    "from models import GNN_Custom_NCI1\n",
    "from preprocessing_nci1 import NCI1Dataset\n",
    "\n",
    "torch.manual_seed(12345)"
   ]
  },
  {
   "cell_type": "markdown",
   "metadata": {},
   "source": [
    "## Data"
   ]
  },
  {
   "cell_type": "code",
   "execution_count": 3,
   "metadata": {},
   "outputs": [],
   "source": [
    "dataset = NCI1Dataset(\"../data/NCI1\")"
   ]
  },
  {
   "cell_type": "code",
   "execution_count": 4,
   "metadata": {},
   "outputs": [
    {
     "data": {
      "text/plain": [
       "4110"
      ]
     },
     "execution_count": 4,
     "metadata": {},
     "output_type": "execute_result"
    }
   ],
   "source": [
    "len(dataset)"
   ]
  },
  {
   "cell_type": "code",
   "execution_count": 5,
   "metadata": {},
   "outputs": [],
   "source": [
    "with open(\"../data/NCI1/index.pkl\", \"rb\") as file:\n",
    "    indices = pickle.load(file)"
   ]
  },
  {
   "cell_type": "markdown",
   "metadata": {},
   "source": [
    "## Model"
   ]
  },
  {
   "cell_type": "code",
   "execution_count": 6,
   "metadata": {},
   "outputs": [],
   "source": [
    "model = GNN_Custom_NCI1(\n",
    "    in_features=dataset.num_node_features,\n",
    "    h_features=128,\n",
    ")"
   ]
  },
  {
   "cell_type": "code",
   "execution_count": 7,
   "metadata": {},
   "outputs": [
    {
     "data": {
      "text/plain": [
       "GNN_Custom_NCI1(\n",
       "  (conv1): GraphConvolution (37 -> 128)\n",
       "  (conv2): GraphConvolution (128 -> 128)\n",
       "  (dense1): Linear(in_features=128, out_features=16, bias=True)\n",
       "  (dense2): Linear(in_features=16, out_features=8, bias=True)\n",
       "  (dense3): Linear(in_features=8, out_features=2, bias=True)\n",
       ")"
      ]
     },
     "execution_count": 7,
     "metadata": {},
     "output_type": "execute_result"
    }
   ],
   "source": [
    "state_dict = torch.load(\n",
    "    \"../graph_classification_model_weights/NCI1_weights.pt\"\n",
    ")\n",
    "model.load_state_dict(state_dict)\n",
    "model.eval()"
   ]
  },
  {
   "cell_type": "markdown",
   "metadata": {},
   "source": [
    "## Reference: GEM style data"
   ]
  },
  {
   "cell_type": "code",
   "execution_count": 8,
   "metadata": {},
   "outputs": [],
   "source": [
    "ckpt = torch.load(f\"../ckpt/Mutagenicity_base_h20_o20.pth.tar\")"
   ]
  },
  {
   "cell_type": "code",
   "execution_count": 9,
   "metadata": {},
   "outputs": [
    {
     "data": {
      "text/plain": [
       "dict_keys(['epoch', 'model_type', 'optimizer', 'model_state', 'optimizer_state', 'cg'])"
      ]
     },
     "execution_count": 9,
     "metadata": {},
     "output_type": "execute_result"
    }
   ],
   "source": [
    "ckpt.keys()"
   ]
  },
  {
   "cell_type": "code",
   "execution_count": 10,
   "metadata": {},
   "outputs": [
    {
     "data": {
      "text/plain": [
       "dict_keys(['adj', 'feat', 'label', 'pred', 'train_idx', 'val_idx', 'test_idx', 'gid'])"
      ]
     },
     "execution_count": 10,
     "metadata": {},
     "output_type": "execute_result"
    }
   ],
   "source": [
    "ckpt['cg'].keys()"
   ]
  },
  {
   "cell_type": "code",
   "execution_count": 11,
   "metadata": {},
   "outputs": [
    {
     "name": "stdout",
     "output_type": "stream",
     "text": [
      "KEY       : OBJECT                   : TYPE           : SHAPE/LEN\n",
      "\n",
      "adj       : <class 'torch.Tensor'>   : torch.float64  : torch.Size([4336, 100, 100])\n",
      "feat      : <class 'torch.Tensor'>   : torch.float64  : torch.Size([4336, 100, 14])\n",
      "label     : <class 'torch.Tensor'>   : torch.int32    : torch.Size([4336])\n",
      "pred      : <class 'numpy.ndarray'>  : float64        : (1, 4336, 2)\n",
      "train_idx : <class 'list'>           : <class 'int'>  : 3468\n",
      "val_idx   : <class 'list'>           : <class 'int'>  : 434\n",
      "test_idx  : <class 'list'>           : <class 'int'>  : 434\n",
      "gid       : <class 'torch.Tensor'>   : torch.int64    : torch.Size([4336])\n"
     ]
    }
   ],
   "source": [
    "print(f'{\"KEY\":<10}: {\"OBJECT\":<25}: {\"TYPE\":<15}: SHAPE/LEN\\n')\n",
    "for key, val in ckpt['cg'].items():\n",
    "    try:\n",
    "        print(f\"{key:<10}: {str(type(val)):<25}: {str(val.dtype):<15}: {val.shape}\")\n",
    "    except: # object doesn't have method named \"shape\"\n",
    "        print(f\"{key:<10}: {str(type(val)):<25}: {str(type(val[0])):<15}: {len(val)}\")"
   ]
  },
  {
   "cell_type": "markdown",
   "metadata": {},
   "source": [
    "## CKPT"
   ]
  },
  {
   "cell_type": "code",
   "execution_count": 12,
   "metadata": {},
   "outputs": [
    {
     "name": "stdout",
     "output_type": "stream",
     "text": [
      "111\n"
     ]
    }
   ],
   "source": [
    "MAX_ADJ_SIZE = max([\n",
    "    graph.edge_index[0].unique().size(0)\n",
    "    for graph in dataset\n",
    "])\n",
    "print(MAX_ADJ_SIZE)"
   ]
  },
  {
   "cell_type": "code",
   "execution_count": 13,
   "metadata": {},
   "outputs": [],
   "source": [
    "adjacencies = list()\n",
    "features = list()\n",
    "labels = list()\n",
    "preds = list()\n",
    "g_ids = list()\n",
    "\n",
    "for g_id, graph in enumerate(dataset):\n",
    "    adj = torch.zeros(\n",
    "        size=(MAX_ADJ_SIZE, MAX_ADJ_SIZE)\n",
    "    ).float()\n",
    "    rows = graph.edge_index[0]\n",
    "    cols = graph.edge_index[1]\n",
    "    for row, col in zip(rows, cols):\n",
    "        adj[int(row), int(col)] = 1.0\n",
    "    \n",
    "    feat = graph.x.float()\n",
    "    feat_size = feat.size(0)\n",
    "    extra_size = MAX_ADJ_SIZE - feat_size\n",
    "    feat_extra = torch.zeros(\n",
    "        size=(extra_size, dataset.num_node_features)\n",
    "    ).float()\n",
    "    feat = torch.cat((feat, feat_extra), dim=0)\n",
    "\n",
    "    label = graph.y.long()\n",
    "    pred = model(feat, adj)\n",
    "\n",
    "    adjacencies.append(adj)\n",
    "    features.append(feat)\n",
    "    labels.append(label)\n",
    "    preds.append(pred)\n",
    "    g_ids.append(g_id)\n",
    "\n",
    "adjacencies = torch.stack(adjacencies)\n",
    "features = torch.stack(features)\n",
    "labels = torch.Tensor(labels).long()\n",
    "preds = torch.stack(preds).detach().unsqueeze(0).numpy()\n",
    "g_ids = torch.Tensor(g_ids).long()"
   ]
  },
  {
   "cell_type": "code",
   "execution_count": 14,
   "metadata": {},
   "outputs": [
    {
     "data": {
      "text/plain": [
       "52.91970802919708"
      ]
     },
     "execution_count": 14,
     "metadata": {},
     "output_type": "execute_result"
    }
   ],
   "source": [
    "100 * (labels.numpy() == preds.argmax(axis=-1)).sum() / len(labels)"
   ]
  },
  {
   "cell_type": "code",
   "execution_count": 15,
   "metadata": {},
   "outputs": [],
   "source": [
    "cg_dict = {\n",
    "    'adj': adjacencies,\n",
    "    'feat': features,\n",
    "    'label': labels,\n",
    "    'pred': preds,\n",
    "    'gid': g_ids,\n",
    "}"
   ]
  },
  {
   "cell_type": "code",
   "execution_count": 16,
   "metadata": {},
   "outputs": [
    {
     "name": "stdout",
     "output_type": "stream",
     "text": [
      "KEY       : OBJECT                   : TYPE           : SHAPE/LEN\n",
      "\n",
      "adj       : <class 'torch.Tensor'>   : torch.float32  : torch.Size([4110, 111, 111])\n",
      "feat      : <class 'torch.Tensor'>   : torch.float32  : torch.Size([4110, 111, 37])\n",
      "label     : <class 'torch.Tensor'>   : torch.int64    : torch.Size([4110])\n",
      "pred      : <class 'numpy.ndarray'>  : float32        : (1, 4110, 2)\n",
      "gid       : <class 'torch.Tensor'>   : torch.int64    : torch.Size([4110])\n"
     ]
    }
   ],
   "source": [
    "print(f'{\"KEY\":<10}: {\"OBJECT\":<25}: {\"TYPE\":<15}: SHAPE/LEN\\n')\n",
    "for key, val in cg_dict.items():\n",
    "    try:\n",
    "        print(f\"{key:<10}: {str(type(val)):<25}: {str(val.dtype):<15}: {val.shape}\")\n",
    "    except: # object doesn't have method named \"shape\"\n",
    "        print(f\"{key:<10}: {str(type(val)):<25}: {str(type(val[0])):<15}: {len(val)}\")"
   ]
  },
  {
   "cell_type": "markdown",
   "metadata": {},
   "source": [
    "## Save"
   ]
  },
  {
   "cell_type": "code",
   "execution_count": 17,
   "metadata": {},
   "outputs": [],
   "source": [
    "new_ckpt = dict()\n",
    "new_ckpt['model_state'] = model.state_dict()\n",
    "new_ckpt['cg'] = cg_dict"
   ]
  },
  {
   "cell_type": "code",
   "execution_count": 18,
   "metadata": {},
   "outputs": [],
   "source": [
    "train_set_1 = list()\n",
    "val_set_1 = list()\n",
    "test_set_1 = list()\n",
    "\n",
    "for set_ in ['train', 'val', 'test']:\n",
    "    for idx in indices[f\"idx_{set_}\"]:\n",
    "        label = new_ckpt['cg']['label'][idx]\n",
    "        pred = new_ckpt['cg']['pred'][0][idx].argmax(axis=-1)\n",
    "        if label == pred == 1:\n",
    "            eval(f\"{set_}_set_1.append(int(idx))\")"
   ]
  },
  {
   "cell_type": "markdown",
   "metadata": {},
   "source": [
    "### Eval set as part of training set"
   ]
  },
  {
   "cell_type": "code",
   "execution_count": 19,
   "metadata": {},
   "outputs": [],
   "source": [
    "new_ckpt['cg']['train_idx'] = train_set_1 + test_set_1\n",
    "new_ckpt['cg']['val_idx'] = val_set_1\n",
    "new_ckpt['cg']['test_idx'] = test_set_1"
   ]
  },
  {
   "cell_type": "code",
   "execution_count": 20,
   "metadata": {},
   "outputs": [],
   "source": [
    "os.makedirs(\"../ckpt\", exist_ok=True)\n",
    "torch.save(new_ckpt, f\"../ckpt/NCI1_eval_as_train.pt\")"
   ]
  },
  {
   "cell_type": "markdown",
   "metadata": {},
   "source": [
    "### Eval set as test set"
   ]
  },
  {
   "cell_type": "code",
   "execution_count": 21,
   "metadata": {},
   "outputs": [],
   "source": [
    "new_ckpt['cg']['train_idx'] = train_set_1\n",
    "new_ckpt['cg']['val_idx'] = val_set_1\n",
    "new_ckpt['cg']['test_idx'] = test_set_1"
   ]
  },
  {
   "cell_type": "code",
   "execution_count": 22,
   "metadata": {},
   "outputs": [],
   "source": [
    "os.makedirs(\"../ckpt\", exist_ok=True)\n",
    "torch.save(new_ckpt, f\"../ckpt/NCI1_eval_as_eval.pt\")"
   ]
  },
  {
   "cell_type": "markdown",
   "metadata": {},
   "source": [
    "## Rough"
   ]
  },
  {
   "cell_type": "code",
   "execution_count": 24,
   "metadata": {},
   "outputs": [
    {
     "name": "stdout",
     "output_type": "stream",
     "text": [
      "Test accuracy: 52.92 %\n"
     ]
    }
   ],
   "source": [
    "correct = 0\n",
    "for graph_idx in range(new_ckpt['cg']['adj'].shape[0]):\n",
    "    feat = new_ckpt['cg']['feat'][graph_idx, :].float().unsqueeze(0)\n",
    "    adj = new_ckpt['cg']['adj'][graph_idx].float().unsqueeze(0)\n",
    "    label = new_ckpt['cg']['label'][graph_idx].long().unsqueeze(0)\n",
    "    pred = model(feat, adj).argmax(dim=-1)\n",
    "    if label == pred:\n",
    "        correct += 1\n",
    "acc = 100 * correct/new_ckpt['cg']['adj'].shape[0]\n",
    "print(f\"{set_.capitalize()} accuracy: {acc:.2f} %\")"
   ]
  },
  {
   "cell_type": "code",
   "execution_count": null,
   "metadata": {},
   "outputs": [],
   "source": []
  }
 ],
 "metadata": {
  "kernelspec": {
   "display_name": "Python 3.9.12 ('gnn')",
   "language": "python",
   "name": "python3"
  },
  "language_info": {
   "codemirror_mode": {
    "name": "ipython",
    "version": 3
   },
   "file_extension": ".py",
   "mimetype": "text/x-python",
   "name": "python",
   "nbconvert_exporter": "python",
   "pygments_lexer": "ipython3",
   "version": "3.9.12"
  },
  "orig_nbformat": 4,
  "vscode": {
   "interpreter": {
    "hash": "68c408a09fc6b9af4d557fa69fd931fc5c0935ab87f3b3ea2b2f71f9a639c9ba"
   }
  }
 },
 "nbformat": 4,
 "nbformat_minor": 2
}
