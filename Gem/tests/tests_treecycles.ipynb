{
 "cells": [
  {
   "cell_type": "markdown",
   "metadata": {},
   "source": [
    "# Baselines"
   ]
  },
  {
   "cell_type": "code",
   "execution_count": 41,
   "metadata": {},
   "outputs": [],
   "source": [
    "import numpy as np\n",
    "import os\n",
    "import pandas as pd\n",
    "import pickle\n",
    "import sys\n",
    "\n",
    "import torch\n",
    "\n",
    "sys.path.append(\"../gnnexp\")\n",
    "from models import GCNSynthetic"
   ]
  },
  {
   "cell_type": "code",
   "execution_count": 42,
   "metadata": {},
   "outputs": [],
   "source": [
    "DATASET = 'syn1'"
   ]
  },
  {
   "cell_type": "markdown",
   "metadata": {},
   "source": [
    "## Data"
   ]
  },
  {
   "cell_type": "code",
   "execution_count": 43,
   "metadata": {},
   "outputs": [],
   "source": [
    "# The original dataset\n",
    "data = torch.load(f\"../data/{DATASET}/eval_as_eval.pt\")"
   ]
  },
  {
   "cell_type": "code",
   "execution_count": 44,
   "metadata": {},
   "outputs": [],
   "source": [
    "# Extracted subadjacency matrices.\n",
    "with open(\"../output/syn1/1657870103/original_sub_data.pkl\", \"rb\") as file:\n",
    "    sub_data = pickle.load(file)"
   ]
  },
  {
   "cell_type": "code",
   "execution_count": 45,
   "metadata": {},
   "outputs": [],
   "source": [
    "sub_labels = dict()\n",
    "for node in sub_data:\n",
    "    new_idx = sub_data[node]['node_idx_new']\n",
    "    sub_labels[node] = sub_data[node]['sub_label'][new_idx]"
   ]
  },
  {
   "cell_type": "code",
   "execution_count": 46,
   "metadata": {},
   "outputs": [],
   "source": [
    "explanations = dict()\n",
    "PATH = f\"../explanation/{DATASET}_top6\"\n",
    "for filename in os.listdir(PATH):\n",
    "    if 'label' not in filename:\n",
    "        continue\n",
    "    explanations[int(filename[4:7])] = pd.read_csv(f\"{PATH}/{filename}\", header=None).to_numpy()"
   ]
  },
  {
   "cell_type": "code",
   "execution_count": 47,
   "metadata": {},
   "outputs": [
    {
     "name": "stdout",
     "output_type": "stream",
     "text": [
      "torch.Size([1, 15, 15])\n",
      "(15, 15)\n"
     ]
    }
   ],
   "source": [
    "print(\n",
    "    sub_data[519]['org_adj'].shape,\n",
    "    explanations[519].shape,\n",
    "    sep='\\n'\n",
    ")"
   ]
  },
  {
   "cell_type": "markdown",
   "metadata": {},
   "source": [
    "## Model"
   ]
  },
  {
   "cell_type": "code",
   "execution_count": 48,
   "metadata": {},
   "outputs": [],
   "source": [
    "ckpt = torch.load(f\"../data/{DATASET}/eval_as_eval.pt\") #todo: Automate this: eval_as_eval and eval_as_train.\n",
    "cg_dict = ckpt[\"cg\"]\n",
    "input_dim = cg_dict[\"feat\"].shape[2] \n",
    "num_classes = cg_dict[\"pred\"].shape[2]"
   ]
  },
  {
   "cell_type": "code",
   "execution_count": 49,
   "metadata": {},
   "outputs": [],
   "source": [
    "with open(f\"prog_args_{DATASET}.pkl\", \"rb\") as file:\n",
    "    prog_args = pickle.load(file)"
   ]
  },
  {
   "cell_type": "code",
   "execution_count": 50,
   "metadata": {},
   "outputs": [
    {
     "data": {
      "text/plain": [
       "GCNSynthetic(\n",
       "  (gc1): GraphConvolution (10 -> 20)\n",
       "  (gc2): GraphConvolution (20 -> 20)\n",
       "  (gc3): GraphConvolution (20 -> 20)\n",
       "  (lin): Linear(in_features=60, out_features=4, bias=True)\n",
       ")"
      ]
     },
     "execution_count": 50,
     "metadata": {},
     "output_type": "execute_result"
    }
   ],
   "source": [
    "model = GCNSynthetic(\n",
    "    nfeat=input_dim,\n",
    "    nhid=prog_args.hidden_dim,\n",
    "    nout=prog_args.output_dim,\n",
    "    nclass=num_classes,\n",
    "    dropout=0.0,\n",
    ")\n",
    "\n",
    "model.load_state_dict(ckpt[\"model_state\"])\n",
    "\n",
    "feat = torch.from_numpy(cg_dict[\"feat\"]).float()\n",
    "adj = torch.from_numpy(cg_dict[\"adj\"]).float()\n",
    "label = torch.from_numpy(cg_dict[\"label\"]).long()\n",
    "model.eval()"
   ]
  },
  {
   "cell_type": "markdown",
   "metadata": {},
   "source": [
    "## Predictions"
   ]
  },
  {
   "cell_type": "code",
   "execution_count": 51,
   "metadata": {},
   "outputs": [],
   "source": [
    "predictions = dict()\n",
    "for node in explanations:\n",
    "    sub_adj = sub_data[node]['org_adj'] - torch.Tensor(explanations[node]).unsqueeze(0)\n",
    "    sub_adj = sub_adj + torch.eye(sub_adj.size(-1))\n",
    "    new_idx = sub_data[node]['node_idx_new']\n",
    "    pred_proba = model(\n",
    "        sub_data[node]['sub_feat'],\n",
    "        sub_adj\n",
    "    ).squeeze(0)\n",
    "    predictions[node] = int(torch.argmax(pred_proba[new_idx]))"
   ]
  },
  {
   "cell_type": "code",
   "execution_count": 52,
   "metadata": {},
   "outputs": [],
   "source": [
    "predictions = torch.Tensor(list(predictions.values()))"
   ]
  },
  {
   "cell_type": "code",
   "execution_count": 53,
   "metadata": {},
   "outputs": [],
   "source": [
    "labels = torch.Tensor(list(sub_labels.values()))"
   ]
  },
  {
   "cell_type": "markdown",
   "metadata": {},
   "source": [
    "## Fidelity"
   ]
  },
  {
   "cell_type": "code",
   "execution_count": 64,
   "metadata": {},
   "outputs": [
    {
     "name": "stdout",
     "output_type": "stream",
     "text": [
      "labels: (tensor([1., 2., 3.]), tensor([13, 18,  7]))\n",
      "predictions: (tensor([0., 1., 3.]), tensor([12, 25,  1]))\n"
     ]
    }
   ],
   "source": [
    "print(\n",
    "    f\"labels: {labels.unique(return_counts=True)}\",\n",
    "    f\"predictions: {predictions.unique(return_counts=True)}\",\n",
    "    sep='\\n'\n",
    ")"
   ]
  },
  {
   "cell_type": "code",
   "execution_count": 71,
   "metadata": {},
   "outputs": [
    {
     "name": "stdout",
     "output_type": "stream",
     "text": [
      "Fidelity: 0.26\n"
     ]
    }
   ],
   "source": [
    "fidelity = 1 - torch.sum(predictions != labels)/labels.size(0)\n",
    "print(f\"Fidelity: {fidelity:.2f}\")"
   ]
  },
  {
   "cell_type": "markdown",
   "metadata": {},
   "source": [
    "## Per label fidelity"
   ]
  },
  {
   "cell_type": "code",
   "execution_count": 67,
   "metadata": {},
   "outputs": [],
   "source": [
    "from collections import defaultdict"
   ]
  },
  {
   "cell_type": "code",
   "execution_count": 68,
   "metadata": {},
   "outputs": [],
   "source": [
    "per_label_fidelity = defaultdict(int)\n",
    "for label, pred in zip(labels, predictions):\n",
    "    if label == pred:\n",
    "        continue\n",
    "    per_label_fidelity[int(label)] += 1"
   ]
  },
  {
   "cell_type": "code",
   "execution_count": 69,
   "metadata": {},
   "outputs": [],
   "source": [
    "nodes_per_label = {\n",
    "    int(key):int(val) for key, val in zip(\n",
    "        labels.unique(return_counts=True)[0],\n",
    "        labels.unique(return_counts=True)[1]\n",
    "    )\n",
    "}"
   ]
  },
  {
   "cell_type": "code",
   "execution_count": 70,
   "metadata": {},
   "outputs": [
    {
     "name": "stdout",
     "output_type": "stream",
     "text": [
      "Fidelity:\n",
      "Label-3\n",
      "0.0\n",
      "\n",
      "Label-2\n",
      "0.0\n",
      "\n",
      "Label-1\n",
      "0.7692307692307692\n",
      "\n"
     ]
    }
   ],
   "source": [
    "print(\"Fidelity:\")\n",
    "for label in per_label_fidelity:\n",
    "    print(f\"Label-{label}\")\n",
    "    print(1 - per_label_fidelity[label]/nodes_per_label[label])\n",
    "    print()"
   ]
  },
  {
   "cell_type": "code",
   "execution_count": null,
   "metadata": {},
   "outputs": [],
   "source": []
  }
 ],
 "metadata": {
  "kernelspec": {
   "display_name": "Python 3.8.13 ('gem')",
   "language": "python",
   "name": "python3"
  },
  "language_info": {
   "codemirror_mode": {
    "name": "ipython",
    "version": 3
   },
   "file_extension": ".py",
   "mimetype": "text/x-python",
   "name": "python",
   "nbconvert_exporter": "python",
   "pygments_lexer": "ipython3",
   "version": "3.8.13"
  },
  "orig_nbformat": 4,
  "vscode": {
   "interpreter": {
    "hash": "6cbbe528126ce4ff858253ebeac4791d5498c577849f0c2b8ed17d9a06b9b755"
   }
  }
 },
 "nbformat": 4,
 "nbformat_minor": 2
}
