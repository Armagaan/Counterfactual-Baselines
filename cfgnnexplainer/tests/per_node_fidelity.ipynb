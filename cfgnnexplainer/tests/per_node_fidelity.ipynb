{
 "cells": [
  {
   "cell_type": "code",
   "execution_count": 1,
   "metadata": {},
   "outputs": [
    {
     "name": "stderr",
     "output_type": "stream",
     "text": [
      "/home/graphAttack/anaconda3/envs/gnn/lib/python3.9/site-packages/tqdm/auto.py:22: TqdmWarning: IProgress not found. Please update jupyter and ipywidgets. See https://ipywidgets.readthedocs.io/en/stable/user_install.html\n",
      "  from .autonotebook import tqdm as notebook_tqdm\n"
     ]
    }
   ],
   "source": [
    "import numpy as np\n",
    "import pandas as pd\n",
    "import pickle\n",
    "import torch"
   ]
  },
  {
   "cell_type": "markdown",
   "metadata": {},
   "source": [
    "## Per-node fidelity"
   ]
  },
  {
   "cell_type": "code",
   "execution_count": 2,
   "metadata": {},
   "outputs": [],
   "source": [
    "# get data from log files\n",
    "def get_stats(path:str):\n",
    "    '''\n",
    "    Extracts information from the output printed in a log-file by main_explain.py. It converts that information into a pandas dataframe.\n",
    "    '''\n",
    "\n",
    "    data = list()\n",
    "    with open(path, 'r') as file:\n",
    "        lines = file.readlines()\n",
    "        for i in range(len(lines)):\n",
    "            if 'Epoch: 0500' in lines[i]:\n",
    "                # the results are present 3 lines below this line\n",
    "                # the labels are at the 11th and last postion of the line, once stripped of spaces\n",
    "                data.append((int(lines[i+3].strip()[11]), int(lines[i+3].strip()[-1])))\n",
    "    return pd.DataFrame(data, columns=['original', 'new'])"
   ]
  },
  {
   "cell_type": "code",
   "execution_count": 3,
   "metadata": {},
   "outputs": [],
   "source": [
    "# log files\n",
    "df_ba_shapes = get_stats(\"../out/log_bashapes500.txt\")\n",
    "df_cycles_shapes = get_stats(\"../out/log_cycle500.txt\")\n",
    "df_grids_shapes = get_stats(\"../out/log_grid500.txt\")"
   ]
  },
  {
   "cell_type": "code",
   "execution_count": 4,
   "metadata": {},
   "outputs": [],
   "source": [
    "# nodes per label\n",
    "ba_label0 = df_ba_shapes[df_ba_shapes.original == 0].shape[0]\n",
    "ba_label1 = df_ba_shapes[df_ba_shapes.original == 1].shape[0]\n",
    "ba_label2 = df_ba_shapes[df_ba_shapes.original == 2].shape[0]\n",
    "ba_label3 = df_ba_shapes[df_ba_shapes.original == 3].shape[0]\n",
    "ba_labels = [ba_label0, ba_label1, ba_label2, ba_label3]\n",
    "\n",
    "cycle_label0 = df_cycles_shapes[df_cycles_shapes.original == 0].shape[0]\n",
    "cycle_label1 = df_cycles_shapes[df_cycles_shapes.original == 1].shape[0]\n",
    "cycle_label2 = df_cycles_shapes[df_cycles_shapes.original == 2].shape[0]\n",
    "cycle_label3 = df_cycles_shapes[df_cycles_shapes.original == 3].shape[0]\n",
    "cycle_labels = [cycle_label0, cycle_label1, cycle_label2, cycle_label3]\n",
    "\n",
    "grid_label0 = df_grids_shapes[df_grids_shapes.original == 0].shape[0]\n",
    "grid_label1 = df_grids_shapes[df_grids_shapes.original == 1].shape[0]\n",
    "grid_label2 = df_grids_shapes[df_grids_shapes.original == 2].shape[0]\n",
    "grid_label3 = df_grids_shapes[df_grids_shapes.original == 3].shape[0]\n",
    "grid_labels = [grid_label0, grid_label1, grid_label2, grid_label3]"
   ]
  },
  {
   "cell_type": "code",
   "execution_count": 5,
   "metadata": {},
   "outputs": [],
   "source": [
    "# get pickled counterfactuals\n",
    "cf_pickle_filepaths = [\n",
    "    \"../results/syn1/SGD/syn1_cf_examples_lr0.01_beta0.5_mom0.9_epochs500\",\n",
    "    \"../results/syn4/SGD/syn4_cf_examples_lr0.1_beta0.5_mom0.0_epochs500\",\n",
    "    \"../results/syn5/SGD/syn5_cf_examples_lr0.1_beta0.5_mom0.0_epochs500\"\n",
    "]\n",
    "with open(cf_pickle_filepaths[0], \"rb\") as f0, open(cf_pickle_filepaths[1], \"rb\") as f1, open(cf_pickle_filepaths[2], \"rb\") as f2: \n",
    "    cf_ba_shapes = pickle.load(f0)\n",
    "    cf_cycles_shapes = pickle.load(f1)\n",
    "    cf_grids_shapes = pickle.load(f2)"
   ]
  },
  {
   "cell_type": "code",
   "execution_count": 28,
   "metadata": {},
   "outputs": [
    {
     "name": "stdout",
     "output_type": "stream",
     "text": [
      "Label-0: 14/62        \n",
      "Label-1: 30/30        \n",
      "Label-2: 2/30        \n",
      "Label-3: 18/18\n",
      "Total cfs found: 64/140\n",
      "Total fidelity: 0.5428571428571429\n",
      "\n",
      "Label-0: 94/94        \n",
      "Label-1: 45/81        \n",
      "Label-2: 0/0        \n",
      "Label-3: 0/0\n",
      "Total cfs found: 139/175\n",
      "Total fidelity: 0.20571428571428574\n",
      "\n",
      "Label-0: 95/97        \n",
      "Label-1: 135/150        \n",
      "Label-2: 0/0        \n",
      "Label-3: 0/0\n",
      "Total cfs found: 230/247\n",
      "Total fidelity: 0.06882591093117407\n",
      "\n"
     ]
    }
   ],
   "source": [
    "for dataset, labels in zip([cf_ba_shapes, cf_cycles_shapes, cf_grids_shapes], [ba_labels, cycle_labels, grid_labels]):\n",
    "    label0, label1, label2, label3 = 0, 0, 0, 0\n",
    "    temp = list()\n",
    "    for i in dataset:\n",
    "        if len(i) == 0:\n",
    "            continue\n",
    "        elif i[0][4] == 0 and i[0][6] != 0:\n",
    "            label0 += 1\n",
    "        elif i[0][4] == 1 and i[0][6] != 1:\n",
    "            label1 += 1\n",
    "        elif i[0][4] == 2 and i[0][6] != 2:\n",
    "            label2 += 1\n",
    "        elif i[0][4] == 3 and i[0][6] != 3:\n",
    "            label3 += 1\n",
    "    \n",
    "    print(f\"Label-0: {label0}/{labels[0]}\\\n",
    "        \\nLabel-1: {label1}/{labels[1]}\\\n",
    "        \\nLabel-2: {label2}/{labels[2]}\\\n",
    "        \\nLabel-3: {label3}/{labels[3]}\")\n",
    "    \n",
    "    print(f\"Total cfs found: {sum([label0, label1, label2, label3])}/{len(dataset)}\")\n",
    "    print(f\"Total fidelity: {1 - sum([label0, label1, label2, label3])/len(dataset)}\")\n",
    "    print()"
   ]
  },
  {
   "cell_type": "markdown",
   "metadata": {},
   "source": [
    "## Total Fidelity"
   ]
  },
  {
   "cell_type": "code",
   "execution_count": 91,
   "metadata": {},
   "outputs": [
    {
     "name": "stdout",
     "output_type": "stream",
     "text": [
      "\n",
      "    Counterfactuals found:\n",
      "    BA-shapes: 51/140 = 0.6357142857142857\n",
      "    Cycles: 139/175 = 0.20571428571428574\n",
      "    Grids: 230/247 = 0.06882591093117407\n",
      "    \n"
     ]
    }
   ],
   "source": [
    "print(f\"\"\"\n",
    "    Counterfactuals found:\n",
    "    BA-shapes: {df_ba_shapes[(df_ba_shapes.original != df_ba_shapes.new)].shape[0]}/{df_ba_shapes.shape[0]} = {1 - df_ba_shapes[(df_ba_shapes.original != df_ba_shapes.new)].shape[0]/df_ba_shapes.shape[0]}\n",
    "    Cycles: {df_cycles_shapes[(df_cycles_shapes.original != df_cycles_shapes.new)].shape[0]}/{df_cycles_shapes.shape[0]} = {1 - df_cycles_shapes[(df_cycles_shapes.original != df_cycles_shapes.new)].shape[0]/df_cycles_shapes.shape[0]}\n",
    "    Grids: {df_grids_shapes[(df_grids_shapes.original != df_grids_shapes.new)].shape[0]}/{df_grids_shapes.shape[0]} = {1 - df_grids_shapes[(df_grids_shapes.original != df_grids_shapes.new)].shape[0]/df_grids_shapes.shape[0]}\n",
    "    \"\"\"\n",
    ")"
   ]
  },
  {
   "cell_type": "markdown",
   "metadata": {},
   "source": [
    "## Nodes per label"
   ]
  },
  {
   "cell_type": "code",
   "execution_count": 70,
   "metadata": {},
   "outputs": [
    {
     "data": {
      "image/png": "[encoded data removed]",
      "text/plain": [
       "<Figure size 576x396 with 1 Axes>"
      ]
     },
     "metadata": {},
     "output_type": "display_data"
    }
   ],
   "source": [
    "import matplotlib.pyplot as plt\n",
    "plt.style.use('seaborn')\n",
    "from matplotlib import rc\n",
    "\n",
    "plt.bar(\n",
    "    [\"Orig-pred-0\", \"Orig-pred-1\", \"Orig-pred-2\", \"Orig-pred-3\"],\n",
    "    [ba_label0, ba_label1, ba_label2, ba_label3],\n",
    "    width=[0.25, 0.25, 0.25, 0.25]\n",
    ")\n",
    "plt.title(\"BA-SHAPES\", fontdict={\"size\":16})\n",
    "plt.ylim(0, 80)\n",
    "plt.show()"
   ]
  },
  {
   "cell_type": "code",
   "execution_count": 69,
   "metadata": {},
   "outputs": [
    {
     "data": {
      "image/png": "[encoded data removed]",
      "text/plain": [
       "<Figure size 576x396 with 1 Axes>"
      ]
     },
     "metadata": {},
     "output_type": "display_data"
    }
   ],
   "source": [
    "import matplotlib.pyplot as plt\n",
    "plt.style.use('seaborn')\n",
    "from matplotlib import rc\n",
    "\n",
    "plt.bar(\n",
    "    [\"Orig-pred-0\", \"Orig-pred-1\"],\n",
    "    [cycle_label0, cycle_label1],\n",
    "    width=[0.25, 0.25]\n",
    ")\n",
    "plt.title(\"TREE-CYCLE\", fontdict={\"size\":16})\n",
    "plt.ylim(0, 100)\n",
    "plt.show()"
   ]
  },
  {
   "cell_type": "code",
   "execution_count": 66,
   "metadata": {},
   "outputs": [
    {
     "data": {
      "image/png": "[encoded data removed]",
      "text/plain": [
       "<Figure size 576x396 with 1 Axes>"
      ]
     },
     "metadata": {},
     "output_type": "display_data"
    }
   ],
   "source": [
    "import matplotlib.pyplot as plt\n",
    "plt.style.use('seaborn')\n",
    "from matplotlib import rc\n",
    "\n",
    "plt.bar(\n",
    "    [\"Orig-pred-0\", \"Orig-pred-1\"],\n",
    "    [grid_label0, grid_label1],\n",
    "    width=[0.25, 0.25]\n",
    ")\n",
    "plt.title(\"TREE-GRID\", fontdict={\"size\":16})\n",
    "plt.ylim(0, 180)\n",
    "plt.show()"
   ]
  },
  {
   "cell_type": "code",
   "execution_count": null,
   "metadata": {},
   "outputs": [],
   "source": []
  }
 ],
 "metadata": {
  "interpreter": {
   "hash": "76f921cd2c7ba31dd50b19ee7b4bedccc75b7e402249f4fc3bf46d4878dd0fb9"
  },
  "kernelspec": {
   "display_name": "Python 3.9.12 ('gnn')",
   "language": "python",
   "name": "python3"
  },
  "language_info": {
   "codemirror_mode": {
    "name": "ipython",
    "version": 3
   },
   "file_extension": ".py",
   "mimetype": "text/x-python",
   "name": "python",
   "nbconvert_exporter": "python",
   "pygments_lexer": "ipython3",
   "version": "3.9.12"
  },
  "orig_nbformat": 4
 },
 "nbformat": 4,
 "nbformat_minor": 2
}
