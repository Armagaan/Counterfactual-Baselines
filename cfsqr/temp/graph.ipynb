{
 "cells": [
  {
   "cell_type": "code",
   "execution_count": 2,
   "metadata": {},
   "outputs": [],
   "source": [
    "import dgl\n",
    "import os\n",
    "import numpy as np"
   ]
  },
  {
   "cell_type": "code",
   "execution_count": 3,
   "metadata": {},
   "outputs": [],
   "source": [
    "load_path = \"../log/BA_Shapes_logs\"\n",
    "graphs, label_dict = dgl.load_graphs(os.path.join(load_path, 'dgl_graph.bin'))\n",
    "labels = label_dict['labels']\n",
    "feat_dim = graphs[0].ndata['feat'].shape[1]\n",
    "targets = np.load(os.path.join(load_path, 'targets.pickle'), allow_pickle=True)"
   ]
  },
  {
   "cell_type": "code",
   "execution_count": 32,
   "metadata": {},
   "outputs": [
    {
     "data": {
      "text/plain": [
       "Graph(num_nodes=379, num_edges=143641,\n",
       "      ndata_schemes={'feat': Scheme(shape=(10,), dtype=torch.float64)}\n",
       "      edata_schemes={'gt': Scheme(shape=(), dtype=torch.float64), 'weight': Scheme(shape=(), dtype=torch.float32)})"
      ]
     },
     "execution_count": 32,
     "metadata": {},
     "output_type": "execute_result"
    }
   ],
   "source": [
    "graphs[0]"
   ]
  },
  {
   "cell_type": "code",
   "execution_count": null,
   "metadata": {},
   "outputs": [],
   "source": []
  }
 ],
 "metadata": {
  "kernelspec": {
   "display_name": "Python 3.7.13 ('cfsqr')",
   "language": "python",
   "name": "python3"
  },
  "language_info": {
   "codemirror_mode": {
    "name": "ipython",
    "version": 3
   },
   "file_extension": ".py",
   "mimetype": "text/x-python",
   "name": "python",
   "nbconvert_exporter": "python",
   "pygments_lexer": "ipython3",
   "version": "3.7.13"
  },
  "orig_nbformat": 4,
  "vscode": {
   "interpreter": {
    "hash": "d7d096456d4adc4d0d94f2f60b5cf993aa1d5a534cad4a79ff1a4d3ab1294b60"
   }
  }
 },
 "nbformat": 4,
 "nbformat_minor": 2
}
