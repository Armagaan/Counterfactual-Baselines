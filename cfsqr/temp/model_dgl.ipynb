{
 "cells": [
  {
   "cell_type": "markdown",
   "metadata": {},
   "source": [
    "# DGL Blackbox"
   ]
  },
  {
   "cell_type": "code",
   "execution_count": 4,
   "metadata": {},
   "outputs": [],
   "source": [
    "import math\n",
    "import pickle\n",
    "\n",
    "import dgl\n",
    "from dgl.nn.pytorch import GraphConv\n",
    "import numpy as np\n",
    "import torch\n",
    "import torch.nn as nn\n",
    "from torch.nn.parameter import Parameter\n",
    "import torch.nn.functional as F"
   ]
  },
  {
   "cell_type": "markdown",
   "metadata": {},
   "source": [
    "## Graph Convolution Layer"
   ]
  },
  {
   "cell_type": "code",
   "execution_count": null,
   "metadata": {},
   "outputs": [],
   "source": [
    "class GraphConvolution(nn.Module):\n",
    "    \"\"\"\n",
    "    Simple GCN layer, similar to https://arxiv.org/abs/1609.02907\n",
    "    \"\"\"\n",
    "\n",
    "    def __init__(self, in_features, out_features, bias=True):\n",
    "        super(GraphConvolution, self).__init__()\n",
    "        self.in_features = in_features\n",
    "        self.out_features = out_features\n",
    "        self.weight = Parameter(torch.FloatTensor(in_features, out_features))\n",
    "        if bias:\n",
    "            self.bias = Parameter(torch.FloatTensor(out_features))\n",
    "        else:\n",
    "            self.register_parameter('bias', None)\n",
    "        self.reset_parameters()\n",
    "\n",
    "    def reset_parameters(self):\n",
    "        stdv = 1. / math.sqrt(self.weight.size(1))\n",
    "        self.weight.data.uniform_(-stdv, stdv)\n",
    "        if self.bias is not None:\n",
    "            self.bias.data.uniform_(-stdv, stdv)\n",
    "\n",
    "    def forward(self, input, adj):\n",
    "        support = torch.mm(input, self.weight)\n",
    "        output = torch.spmm(adj, support)\n",
    "        if self.bias is not None:\n",
    "            return output + self.bias\n",
    "        else:\n",
    "            return output\n",
    "\n",
    "    def __repr__(self):\n",
    "        return self.__class__.__name__ + ' (' \\\n",
    "               + str(self.in_features) + ' -> ' \\\n",
    "               + str(self.out_features) + ')'"
   ]
  },
  {
   "cell_type": "markdown",
   "metadata": {},
   "source": [
    "## GCN"
   ]
  },
  {
   "cell_type": "code",
   "execution_count": null,
   "metadata": {},
   "outputs": [],
   "source": [
    "class GCN(torch.nn.Module):\n",
    "    def __init__(self, nfeat, nhid, nout, nclass, dropout, device, if_exp=False):\n",
    "        super(GCN, self).__init__()\n",
    "        self.gc1 = GraphConvolution(nfeat, nhid)\n",
    "        self.gc2 = GraphConvolution(nhid, nhid)\n",
    "        self.gc3 = GraphConvolution(nhid, nout)\n",
    "        self.lin = nn.Linear(nhid + nhid + nout, nclass)\n",
    "        self.dropout = dropout\n",
    "        self.if_exp = if_exp\n",
    "        self.device = device\n",
    "\n",
    "    def forward(self, g, in_feat, e_weight, target_node):\n",
    "        # \"g\" is a DGL graph object.\n",
    "        # map target node index\n",
    "        x = torch.cat((\n",
    "            torch.tensor([0]).to(self.device),\n",
    "            torch.cumsum(g.batch_num_nodes(), dim=0),\n",
    "        ), dim=0)[:-1]\n",
    "        target_node = target_node + x\n",
    "        h = self.conv1(g, in_feat, e_weight)\n",
    "        h = torch.nn.functional.relu(h)\n",
    "        h = self.conv2(g, h, e_weight)\n",
    "        h = torch.nn.functional.relu(h)\n",
    "        h = self.conv3(g, h, e_weight)\n",
    "        if self.if_exp:  # if in the explanation mod, should add softmax layer\n",
    "            h = torch.nn.functional.softmax(h)\n",
    "        g.ndata['h'] = h\n",
    "        return g.ndata['h'][target_node]"
   ]
  },
  {
   "cell_type": "markdown",
   "metadata": {},
   "source": [
    "## Load trained weights"
   ]
  },
  {
   "cell_type": "code",
   "execution_count": 6,
   "metadata": {},
   "outputs": [],
   "source": [
    "DATASET = 'syn1'\n",
    "\n",
    "# Import the dataset used by CFGNNExplainer. \n",
    "with open(f\"../../data/{DATASET}.pickle\", \"rb\") as file:\n",
    "\tdata = pickle.load(file)\n",
    "\n",
    "adj = torch.Tensor(data[\"adj\"]).squeeze() # Does not include self loops.\n",
    "features = torch.Tensor(data[\"feat\"]).squeeze()\n",
    "labels = torch.tensor(data[\"labels\"]).squeeze()\n",
    "idx_train = torch.tensor(data[\"train_idx\"])"
   ]
  },
  {
   "cell_type": "code",
   "execution_count": 7,
   "metadata": {},
   "outputs": [],
   "source": [
    "args = {\n",
    "    'nfeat': features.shape[1],\n",
    "\t'nhid': 20,\n",
    "\t'nout': 20,\n",
    "\t'nclass': len(labels.unique()),\n",
    "\t'dropout': 0.0,\n",
    "}"
   ]
  },
  {
   "cell_type": "code",
   "execution_count": 8,
   "metadata": {},
   "outputs": [
    {
     "data": {
      "text/plain": [
       "<All keys matched successfully>"
      ]
     },
     "execution_count": 8,
     "metadata": {},
     "output_type": "execute_result"
    }
   ],
   "source": [
    "# Set up original model, get predictions\n",
    "model = GCNSynthetic(**args)\n",
    "model.load_state_dict(\n",
    "    torch.load(f\"../../models/gcn_3layer_{DATASET}.pt\")\n",
    ")"
   ]
  },
  {
   "cell_type": "code",
   "execution_count": 9,
   "metadata": {},
   "outputs": [
    {
     "name": "stdout",
     "output_type": "stream",
     "text": [
      "GCNSynthetic(\n",
      "  (gc1): GraphConvolution (10 -> 20)\n",
      "  (gc2): GraphConvolution (20 -> 20)\n",
      "  (gc3): GraphConvolution (20 -> 20)\n",
      "  (lin): Linear(in_features=60, out_features=4, bias=True)\n",
      ")\n"
     ]
    }
   ],
   "source": [
    "print(model)"
   ]
  },
  {
   "cell_type": "markdown",
   "metadata": {},
   "source": [
    "## Predict"
   ]
  },
  {
   "cell_type": "code",
   "execution_count": 10,
   "metadata": {},
   "outputs": [],
   "source": [
    "def get_degree_matrix(adj):\n",
    "\treturn torch.diag(sum(adj))"
   ]
  },
  {
   "cell_type": "code",
   "execution_count": 11,
   "metadata": {},
   "outputs": [],
   "source": [
    "def normalize_adj(adj):\n",
    "\t# Normalize adjacancy matrix according to reparam trick in GCN paper\n",
    "\tA_tilde = adj + torch.eye(adj.shape[0])\n",
    "\tD_tilde = get_degree_matrix(A_tilde)\n",
    "\t# Raise to power -1/2, set all infs to 0s\n",
    "\tD_tilde_exp = D_tilde ** (-1 / 2)\n",
    "\tD_tilde_exp[torch.isinf(D_tilde_exp)] = 0\n",
    "\n",
    "\t# Create norm_adj = (D + I)^(-1/2) * (A + I) * (D + I) ^(-1/2)\n",
    "\tnorm_adj = torch.mm(torch.mm(D_tilde_exp, A_tilde), D_tilde_exp)\n",
    "\treturn norm_adj"
   ]
  },
  {
   "cell_type": "code",
   "execution_count": 12,
   "metadata": {},
   "outputs": [],
   "source": [
    "norm_adj = normalize_adj(adj)\n",
    "output = model(features, norm_adj)\n",
    "y_pred_orig = torch.argmax(output, dim=1)"
   ]
  },
  {
   "cell_type": "code",
   "execution_count": 21,
   "metadata": {},
   "outputs": [
    {
     "data": {
      "text/plain": [
       "(array([0, 1, 2, 3]), array([300, 166, 144,  90]))"
      ]
     },
     "execution_count": 21,
     "metadata": {},
     "output_type": "execute_result"
    }
   ],
   "source": [
    "np.unique(y_pred_orig, return_counts=True)"
   ]
  },
  {
   "cell_type": "code",
   "execution_count": null,
   "metadata": {},
   "outputs": [],
   "source": []
  }
 ],
 "metadata": {
  "kernelspec": {
   "display_name": "Python 3.7.13 ('cfsqr')",
   "language": "python",
   "name": "python3"
  },
  "language_info": {
   "codemirror_mode": {
    "name": "ipython",
    "version": 3
   },
   "file_extension": ".py",
   "mimetype": "text/x-python",
   "name": "python",
   "nbconvert_exporter": "python",
   "pygments_lexer": "ipython3",
   "version": "3.7.13"
  },
  "orig_nbformat": 4,
  "vscode": {
   "interpreter": {
    "hash": "d7d096456d4adc4d0d94f2f60b5cf993aa1d5a534cad4a79ff1a4d3ab1294b60"
   }
  }
 },
 "nbformat": 4,
 "nbformat_minor": 2
}
