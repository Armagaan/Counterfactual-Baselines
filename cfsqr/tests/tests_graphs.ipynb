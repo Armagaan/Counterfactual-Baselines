{
 "cells": [
  {
   "cell_type": "markdown",
   "metadata": {},
   "source": [
    "# Mutagenecity"
   ]
  },
  {
   "cell_type": "code",
   "execution_count": 1,
   "metadata": {},
   "outputs": [],
   "source": [
    "from collections import defaultdict\n",
    "import pickle\n",
    "\n",
    "import numpy as np\n",
    "import torch"
   ]
  },
  {
   "cell_type": "code",
   "execution_count": 2,
   "metadata": {},
   "outputs": [],
   "source": [
    "# Specify the folder containing the outputs of get_outputs.sh.\n",
    "FOLDER = \"../outputs/mutag/mutag-alp_0.0-1658483050\""
   ]
  },
  {
   "cell_type": "markdown",
   "metadata": {},
   "source": [
    "## Data"
   ]
  },
  {
   "cell_type": "code",
   "execution_count": 3,
   "metadata": {},
   "outputs": [],
   "source": [
    "with open(f\"{FOLDER}/exp_dict.pkl\", \"rb\") as file:\n",
    "    exp_dict = pickle.load(file) # format: node_id: explanation_mask over the adjacency_matrix\n",
    "\n",
    "with open(f\"{FOLDER}/log.txt\", \"r\") as file:\n",
    "    log = file.readlines()\n",
    "\n",
    "with open(f\"{FOLDER}/num_dict.pkl\", \"rb\") as file:\n",
    "    num_dict = pickle.load(file) # format: node_id: #counterfactuals_found\n",
    "\n",
    "with open(f\"{FOLDER}/pred_label_dict.pkl\", \"rb\") as file:\n",
    "    pred_label_dict = pickle.load(file) # format: node_id: initial_blackbox_prediction\n",
    "\n",
    "with open(f\"{FOLDER}/pred_proba.txt\", \"r\") as file:\n",
    "    pred_proba = file.readlines()\n",
    "\n",
    "with open(f\"{FOLDER}/t_gid.pkl\", \"rb\") as file:\n",
    "    t_gid = pickle.load(file) # format: subgraph_id (same as node_id)\n",
    "\n",
    "# ! TEMPORARY\n",
    "with open(\"../datasets/Eval-sets/eval-set-bashapes.pkl\", \"rb\") as file:\n",
    "    eval_set = pickle.load(file)"
   ]
  },
  {
   "cell_type": "markdown",
   "metadata": {},
   "source": [
    "### Constants"
   ]
  },
  {
   "cell_type": "code",
   "execution_count": 4,
   "metadata": {},
   "outputs": [],
   "source": [
    "NUMBER_OF_LABELS = 2 \n",
    "# ! Temporary:\n",
    "# ! There should be 2 labels. But, since cfsqr is explaining label 1,\n",
    "# ! there is no graph with label 0 in the set. \n",
    "# NUMBER_OF_LABELS = len(str.strip(pred_proba[0]).split())\n",
    "\n",
    "NODES_PER_LABEL = defaultdict(int)\n",
    "for node_id, label in pred_label_dict.items():\n",
    "    NODES_PER_LABEL[f\"label-{int(label)}\"] += 1"
   ]
  },
  {
   "cell_type": "code",
   "execution_count": 5,
   "metadata": {},
   "outputs": [
    {
     "name": "stdout",
     "output_type": "stream",
     "text": [
      "defaultdict(<class 'int'>, {'label-0': 32})\n"
     ]
    }
   ],
   "source": [
    "print(NODES_PER_LABEL)"
   ]
  },
  {
   "cell_type": "markdown",
   "metadata": {},
   "source": [
    "## Per-label Explanation size"
   ]
  },
  {
   "cell_type": "code",
   "execution_count": 6,
   "metadata": {},
   "outputs": [],
   "source": [
    "per_label_explanation_size = defaultdict(list)\n",
    "\n",
    "# iterate over the nodes\n",
    "for node_id, number_of_cfs in num_dict.items():\n",
    "    # find out the initial label\n",
    "    label = pred_label_dict[node_id]\n",
    "    # update size of corresponding label\n",
    "    per_label_explanation_size[f\"label-{int(label)}\"].append(int(number_of_cfs))\n",
    "\n",
    "# find mean and std\n",
    "for label in range(NUMBER_OF_LABELS):\n",
    "    if len(per_label_explanation_size[f\"label-{int(label)}\"]) == 0:\n",
    "        mean, std = None, None\n",
    "    else:\n",
    "        mean = np.mean(per_label_explanation_size[f\"label-{int(label)}\"])\n",
    "        std = np.std(per_label_explanation_size[f\"label-{int(label)}\"])\n",
    "    per_label_explanation_size[f\"label-{int(label)}\"] = [mean, std]"
   ]
  },
  {
   "cell_type": "code",
   "execution_count": 7,
   "metadata": {},
   "outputs": [
    {
     "name": "stdout",
     "output_type": "stream",
     "text": [
      "Explanation size:\n",
      "\n",
      "label-0: 0.09375 +- 0.5219779090153146\n",
      "label-1: None +- None\n"
     ]
    }
   ],
   "source": [
    "print(\"Explanation size:\\n\")\n",
    "for key, value in per_label_explanation_size.items(): # format: label: (mean, std)\n",
    "    print(f\"{key}: {value[0]} +- {value[1]}\")"
   ]
  },
  {
   "cell_type": "markdown",
   "metadata": {},
   "source": [
    "## Explanation size"
   ]
  },
  {
   "cell_type": "code",
   "execution_count": 8,
   "metadata": {},
   "outputs": [],
   "source": [
    "mean = np.array(list(num_dict.values())).mean()\n",
    "std = np.array(list(num_dict.values())).std()\n",
    "explanation_size = [mean, std]"
   ]
  },
  {
   "cell_type": "code",
   "execution_count": 9,
   "metadata": {},
   "outputs": [
    {
     "name": "stdout",
     "output_type": "stream",
     "text": [
      "Explanation size: 0.09 +- 0.52\n"
     ]
    }
   ],
   "source": [
    "print(f\"Explanation size: {explanation_size[0]:.2f} +- {explanation_size[1]:.2f}\")"
   ]
  },
  {
   "cell_type": "markdown",
   "metadata": {},
   "source": [
    "## Per-node fidelity"
   ]
  },
  {
   "cell_type": "code",
   "execution_count": 10,
   "metadata": {},
   "outputs": [],
   "source": [
    "predictions = defaultdict(int)\n",
    "for node_id, line in zip(t_gid, pred_proba):\n",
    "    line = line.strip().split()\n",
    "    line = [float(pred) for pred in line]\n",
    "    sigmoid_proba = line[0] # assuming only one output as in case of sigmoid.\n",
    "    pred = round(sigmoid_proba)\n",
    "    predictions[node_id] = pred"
   ]
  },
  {
   "cell_type": "code",
   "execution_count": 11,
   "metadata": {},
   "outputs": [],
   "source": [
    "labels_and_preds = defaultdict(tuple)\n",
    "for node_id in t_gid:\n",
    "    labels_and_preds[node_id] = (int(pred_label_dict[node_id]), predictions[node_id])"
   ]
  },
  {
   "cell_type": "code",
   "execution_count": 12,
   "metadata": {},
   "outputs": [],
   "source": [
    "per_label_cf_found = defaultdict(int)\n",
    "for node_id, (label, prediction) in labels_and_preds.items():\n",
    "    if label != prediction:\n",
    "        per_label_cf_found[f\"label-{label}\"] += 1"
   ]
  },
  {
   "cell_type": "code",
   "execution_count": 13,
   "metadata": {},
   "outputs": [],
   "source": [
    "per_label_fidelity = dict()\n",
    "for key, value in per_label_cf_found.items():\n",
    "    per_label_fidelity[key] = 1 - per_label_cf_found[key]/NODES_PER_LABEL[key]"
   ]
  },
  {
   "cell_type": "code",
   "execution_count": 14,
   "metadata": {},
   "outputs": [
    {
     "name": "stdout",
     "output_type": "stream",
     "text": [
      "Fidelity:\n",
      "\n"
     ]
    }
   ],
   "source": [
    "print(f\"Fidelity:\\n\")\n",
    "for key, value in per_label_fidelity.items():\n",
    "    print(f\"{key}: {value}\")"
   ]
  },
  {
   "cell_type": "markdown",
   "metadata": {},
   "source": [
    "## Fidelity"
   ]
  },
  {
   "cell_type": "code",
   "execution_count": 15,
   "metadata": {},
   "outputs": [],
   "source": [
    "cf_found = 0\n",
    "for node_id, (label, prediction) in labels_and_preds.items():\n",
    "    if label != prediction:\n",
    "        cf_found += 1\n",
    "        \n",
    "fidelity = 1 - cf_found/sum(list(NODES_PER_LABEL.values()))"
   ]
  },
  {
   "cell_type": "code",
   "execution_count": 16,
   "metadata": {},
   "outputs": [
    {
     "name": "stdout",
     "output_type": "stream",
     "text": [
      "Fidelity: 1.0\n"
     ]
    }
   ],
   "source": [
    "print(f\"Fidelity: {fidelity}\")"
   ]
  },
  {
   "cell_type": "markdown",
   "metadata": {},
   "source": [
    "## Rough"
   ]
  },
  {
   "cell_type": "markdown",
   "metadata": {},
   "source": [
    "exp_dict\n",
    "log\n",
    "num_dict\n",
    "pred_label_dict\n",
    "pred_proba\n",
    "t_gid"
   ]
  },
  {
   "cell_type": "code",
   "execution_count": 20,
   "metadata": {},
   "outputs": [],
   "source": [
    "new_edge_num = len(exp_dict[201][exp_dict[201] > 0.5])"
   ]
  },
  {
   "cell_type": "code",
   "execution_count": 21,
   "metadata": {},
   "outputs": [
    {
     "data": {
      "text/plain": [
       "0"
      ]
     },
     "execution_count": 21,
     "metadata": {},
     "output_type": "execute_result"
    }
   ],
   "source": [
    "new_edge_num"
   ]
  },
  {
   "cell_type": "code",
   "execution_count": null,
   "metadata": {},
   "outputs": [],
   "source": []
  }
 ],
 "metadata": {
  "interpreter": {
   "hash": "d7d096456d4adc4d0d94f2f60b5cf993aa1d5a534cad4a79ff1a4d3ab1294b60"
  },
  "kernelspec": {
   "display_name": "Python 3.7.13 ('cfsqr')",
   "language": "python",
   "name": "python3"
  },
  "language_info": {
   "codemirror_mode": {
    "name": "ipython",
    "version": 3
   },
   "file_extension": ".py",
   "mimetype": "text/x-python",
   "name": "python",
   "nbconvert_exporter": "python",
   "pygments_lexer": "ipython3",
   "version": "3.7.13"
  },
  "orig_nbformat": 4
 },
 "nbformat": 4,
 "nbformat_minor": 2
}
